{
  "cells": [
    {
      "cell_type": "markdown",
      "metadata": {
        "pycharm": {
          "name": "#%% md\n"
        },
        "id": "4sxgdE4-F56w"
      },
      "source": [
        "# Klasyfikacja niezbalansowana, klasyfikatory zespołowe i wyjaśnialna AI"
      ]
    },
    {
      "cell_type": "markdown",
      "metadata": {
        "pycharm": {
          "name": "#%% md\n"
        },
        "id": "ZJRURk7OF56w"
      },
      "source": [
        "## Wykorzystanie Google Colab\n",
        "\n",
        "Jeśli korzystasz z Google Colab skopiuj plik `feature_names.json` do katalogu głównego projektu.\n",
        "\n",
        "Pamiętaj o zainstalowaniu zależności z użyciem `uv` lub `pip`."
      ]
    },
    {
      "cell_type": "markdown",
      "metadata": {
        "editable": true,
        "pycharm": {
          "name": "#%% md\n"
        },
        "tags": [],
        "id": "Lfc9EzmlF56x"
      },
      "source": [
        "## Ładowanie i eksploracja danych"
      ]
    },
    {
      "cell_type": "markdown",
      "metadata": {
        "editable": true,
        "pycharm": {
          "name": "#%% md\n"
        },
        "tags": [],
        "id": "1GKxcWX4F56x"
      },
      "source": [
        "W trakcie tych zajęć laboratoryjnych wykorzystamy zbiór danych [Polish companies bankruptcy](https://archive.ics.uci.edu/ml/datasets/Polish+companies+bankruptcy+data). Dotyczy on klasyfikacji, na podstawie danych z raportów finansowych, czy firma zbankrutuje w ciągu najbliższych kilku lat. Jest to zadanie szczególnie istotne dla banków, funduszy inwestycyjnych, firm ubezpieczeniowych itp. Zbiór zawiera 64 cechy obliczonych przez ekonomistów. Są one opisane na wspomnianej wcześniej stronie. Dotyczą one zysków firm, posiadanych zasobów, długów itp.\n",
        "\n",
        "> Dodaj cytat blokowy\n",
        "\n",
        "\n",
        "\n",
        "Ściągnij i rozpakuj dane (`Data Folder` -> `data.zip`) do katalogu `data` obok tego notebooka. Znajduje się tam 5 plików w formacie `.arff`, wykorzystywanym głównie przez oprogramowanie Weka. Jest to program do wyposażony w graficzny interfejs użytkownika, który był często używany przez mniej techincznie obeznanych użytkowników. W Pythonie dane w tym formacie ładuje się  za pomocą bibliotek SciPy i Pandas.\n"
      ]
    },
    {
      "cell_type": "markdown",
      "metadata": {
        "id": "j_EFf_dVF56x"
      },
      "source": [
        "Jeśli korzystasz z Linuksa możesz skorzystać z poniższych poleceń do pobrania i rozpakowania tych plików."
      ]
    },
    {
      "cell_type": "code",
      "execution_count": 6,
      "metadata": {
        "ExecuteTime": {
          "end_time": "2023-10-17T12:09:50.173669Z",
          "start_time": "2023-10-17T12:09:24.311939Z"
        },
        "editable": true,
        "tags": [],
        "id": "Li3ayP0iF56y",
        "outputId": "b4bb6a64-2100-4321-e987-4f2a72b62668",
        "colab": {
          "base_uri": "https://localhost:8080/"
        }
      },
      "outputs": [
        {
          "output_type": "stream",
          "name": "stdout",
          "text": [
            "--2025-10-27 14:49:34--  https://archive.ics.uci.edu/static/public/365/polish+companies+bankruptcy+data.zip\n",
            "Resolving archive.ics.uci.edu (archive.ics.uci.edu)... 128.195.10.252\n",
            "Connecting to archive.ics.uci.edu (archive.ics.uci.edu)|128.195.10.252|:443... connected.\n",
            "HTTP request sent, awaiting response... 200 OK\n",
            "Length: unspecified\n",
            "Saving to: ‘data/data.zip’\n",
            "\n",
            "data/data.zip           [    <=>             ]   8.42M  13.1MB/s    in 0.6s    \n",
            "\n",
            "2025-10-27 14:49:35 (13.1 MB/s) - ‘data/data.zip’ saved [8834471]\n",
            "\n"
          ]
        }
      ],
      "source": [
        "!mkdir -p data\n",
        "!wget https://archive.ics.uci.edu/static/public/365/polish+companies+bankruptcy+data.zip -O data/data.zip"
      ]
    },
    {
      "cell_type": "code",
      "execution_count": 7,
      "metadata": {
        "ExecuteTime": {
          "end_time": "2023-10-17T12:10:04.017260Z",
          "start_time": "2023-10-17T12:09:57.831756Z"
        },
        "editable": true,
        "tags": [],
        "id": "akUZ9ahqF56y",
        "outputId": "3ae1e6b0-ea15-482a-f9b8-390e42e1ef0a",
        "colab": {
          "base_uri": "https://localhost:8080/"
        }
      },
      "outputs": [
        {
          "output_type": "stream",
          "name": "stdout",
          "text": [
            "Archive:  data/data.zip\n",
            "replace data/1year.arff? [y]es, [n]o, [A]ll, [N]one, [r]ename: r\n",
            "new name: 1year\n",
            "  inflating: data/1year              \n",
            "replace data/2year.arff? [y]es, [n]o, [A]ll, [N]one, [r]ename: y\n",
            "  inflating: data/2year.arff         \n",
            "replace data/3year.arff? [y]es, [n]o, [A]ll, [N]one, [r]ename: y\n",
            "  inflating: data/3year.arff         \n",
            "replace data/4year.arff? [y]es, [n]o, [A]ll, [N]one, [r]ename: y\n",
            "  inflating: data/4year.arff         \n",
            "replace data/5year.arff? [y]es, [n]o, [A]ll, [N]one, [r]ename: y\n",
            "  inflating: data/5year.arff         \n"
          ]
        }
      ],
      "source": [
        "!unzip data/data.zip -d data"
      ]
    },
    {
      "cell_type": "markdown",
      "metadata": {
        "editable": true,
        "tags": [],
        "id": "LjlLpBH2F56z"
      },
      "source": [
        "\n",
        "\n",
        "```\n",
        "# Sformatowano jako kod\n",
        "```\n",
        "\n",
        "\n",
        "W dalszej części laboratorium wykorzystamy plik `3year.arff`, w którym na podstawie danych finansowych firmy po 3 latach monitorowania chcemy przewidywać, czy firma zbankrutuje w ciągu najbliższych 3 lat. Jest to dość realistyczny horyzont czasowy.\n",
        "\n",
        "Dodatkowo w pliku `feature_names.json` znajdują się nazwy cech. Nazwy są bardzo długie, więc póki co nie będziemy z nich korzystać."
      ]
    },
    {
      "cell_type": "code",
      "execution_count": 43,
      "metadata": {
        "editable": true,
        "pycharm": {
          "name": "#%%\n"
        },
        "tags": [],
        "id": "uA7GF80uF56z"
      },
      "outputs": [],
      "source": [
        "import json\n",
        "import os\n",
        "\n",
        "from scipy.io import arff\n",
        "import pandas as pd\n",
        "\n",
        "data = arff.loadarff(os.path.join(\"data\", \"3year.arff\"))\n",
        "\n",
        "with open(\"feature_names.json\") as file:\n",
        "    feature_names = json.load(file)\n",
        "\n",
        "X = pd.DataFrame(data[0])"
      ]
    },
    {
      "cell_type": "markdown",
      "metadata": {
        "pycharm": {
          "name": "#%% md\n"
        },
        "id": "OfNGbXOYF56z"
      },
      "source": [
        "Przyjrzyjmy się teraz naszym danym."
      ]
    },
    {
      "cell_type": "code",
      "execution_count": 10,
      "metadata": {
        "editable": true,
        "pycharm": {
          "name": "#%%\n"
        },
        "tags": [],
        "id": "oDK-hnt4F56z",
        "outputId": "09dab590-d1a7-4fa4-ca81-0f5f6f74d18f",
        "colab": {
          "base_uri": "https://localhost:8080/",
          "height": 255
        }
      },
      "outputs": [
        {
          "output_type": "execute_result",
          "data": {
            "text/plain": [
              "      Attr1    Attr2    Attr3   Attr4    Attr5    Attr6     Attr7   Attr8  \\\n",
              "0  0.174190  0.41299  0.14371  1.3480 -28.9820  0.60383  0.219460  1.1225   \n",
              "1  0.146240  0.46038  0.28230  1.6294   2.5952  0.00000  0.171850  1.1721   \n",
              "2  0.000595  0.22612  0.48839  3.1599  84.8740  0.19114  0.004572  2.9881   \n",
              "3  0.024526  0.43236  0.27546  1.7833 -10.1050  0.56944  0.024526  1.3057   \n",
              "4  0.188290  0.41504  0.34231  1.9279 -58.2740  0.00000  0.233580  1.4094   \n",
              "\n",
              "    Attr9   Attr10  ...    Attr56    Attr57   Attr58    Attr59  Attr60  \\\n",
              "0  1.1961  0.46359  ...  0.163960  0.375740  0.83604  0.000007  9.7145   \n",
              "1  1.6018  0.53962  ...  0.027516  0.271000  0.90108  0.000000  5.9882   \n",
              "2  1.0077  0.67566  ...  0.007639  0.000881  0.99236  0.000000  6.7742   \n",
              "3  1.0509  0.56453  ...  0.048398  0.043445  0.95160  0.142980  4.2286   \n",
              "4  1.3393  0.58496  ...  0.176480  0.321880  0.82635  0.073039  2.5912   \n",
              "\n",
              "   Attr61   Attr62  Attr63  Attr64  class  \n",
              "0  6.2813   84.291  4.3303  4.0341   b'0'  \n",
              "1  4.1103  102.190  3.5716  5.9500   b'0'  \n",
              "2  3.7922   64.846  5.6287  4.4581   b'0'  \n",
              "3  5.0528   98.783  3.6950  3.4844   b'0'  \n",
              "4  7.0756  100.540  3.6303  4.6375   b'0'  \n",
              "\n",
              "[5 rows x 65 columns]"
            ],
            "text/html": [
              "\n",
              "  <div id=\"df-72c68db1-76d0-4a7c-8db1-94c920881d0d\" class=\"colab-df-container\">\n",
              "    <div>\n",
              "<style scoped>\n",
              "    .dataframe tbody tr th:only-of-type {\n",
              "        vertical-align: middle;\n",
              "    }\n",
              "\n",
              "    .dataframe tbody tr th {\n",
              "        vertical-align: top;\n",
              "    }\n",
              "\n",
              "    .dataframe thead th {\n",
              "        text-align: right;\n",
              "    }\n",
              "</style>\n",
              "<table border=\"1\" class=\"dataframe\">\n",
              "  <thead>\n",
              "    <tr style=\"text-align: right;\">\n",
              "      <th></th>\n",
              "      <th>Attr1</th>\n",
              "      <th>Attr2</th>\n",
              "      <th>Attr3</th>\n",
              "      <th>Attr4</th>\n",
              "      <th>Attr5</th>\n",
              "      <th>Attr6</th>\n",
              "      <th>Attr7</th>\n",
              "      <th>Attr8</th>\n",
              "      <th>Attr9</th>\n",
              "      <th>Attr10</th>\n",
              "      <th>...</th>\n",
              "      <th>Attr56</th>\n",
              "      <th>Attr57</th>\n",
              "      <th>Attr58</th>\n",
              "      <th>Attr59</th>\n",
              "      <th>Attr60</th>\n",
              "      <th>Attr61</th>\n",
              "      <th>Attr62</th>\n",
              "      <th>Attr63</th>\n",
              "      <th>Attr64</th>\n",
              "      <th>class</th>\n",
              "    </tr>\n",
              "  </thead>\n",
              "  <tbody>\n",
              "    <tr>\n",
              "      <th>0</th>\n",
              "      <td>0.174190</td>\n",
              "      <td>0.41299</td>\n",
              "      <td>0.14371</td>\n",
              "      <td>1.3480</td>\n",
              "      <td>-28.9820</td>\n",
              "      <td>0.60383</td>\n",
              "      <td>0.219460</td>\n",
              "      <td>1.1225</td>\n",
              "      <td>1.1961</td>\n",
              "      <td>0.46359</td>\n",
              "      <td>...</td>\n",
              "      <td>0.163960</td>\n",
              "      <td>0.375740</td>\n",
              "      <td>0.83604</td>\n",
              "      <td>0.000007</td>\n",
              "      <td>9.7145</td>\n",
              "      <td>6.2813</td>\n",
              "      <td>84.291</td>\n",
              "      <td>4.3303</td>\n",
              "      <td>4.0341</td>\n",
              "      <td>b'0'</td>\n",
              "    </tr>\n",
              "    <tr>\n",
              "      <th>1</th>\n",
              "      <td>0.146240</td>\n",
              "      <td>0.46038</td>\n",
              "      <td>0.28230</td>\n",
              "      <td>1.6294</td>\n",
              "      <td>2.5952</td>\n",
              "      <td>0.00000</td>\n",
              "      <td>0.171850</td>\n",
              "      <td>1.1721</td>\n",
              "      <td>1.6018</td>\n",
              "      <td>0.53962</td>\n",
              "      <td>...</td>\n",
              "      <td>0.027516</td>\n",
              "      <td>0.271000</td>\n",
              "      <td>0.90108</td>\n",
              "      <td>0.000000</td>\n",
              "      <td>5.9882</td>\n",
              "      <td>4.1103</td>\n",
              "      <td>102.190</td>\n",
              "      <td>3.5716</td>\n",
              "      <td>5.9500</td>\n",
              "      <td>b'0'</td>\n",
              "    </tr>\n",
              "    <tr>\n",
              "      <th>2</th>\n",
              "      <td>0.000595</td>\n",
              "      <td>0.22612</td>\n",
              "      <td>0.48839</td>\n",
              "      <td>3.1599</td>\n",
              "      <td>84.8740</td>\n",
              "      <td>0.19114</td>\n",
              "      <td>0.004572</td>\n",
              "      <td>2.9881</td>\n",
              "      <td>1.0077</td>\n",
              "      <td>0.67566</td>\n",
              "      <td>...</td>\n",
              "      <td>0.007639</td>\n",
              "      <td>0.000881</td>\n",
              "      <td>0.99236</td>\n",
              "      <td>0.000000</td>\n",
              "      <td>6.7742</td>\n",
              "      <td>3.7922</td>\n",
              "      <td>64.846</td>\n",
              "      <td>5.6287</td>\n",
              "      <td>4.4581</td>\n",
              "      <td>b'0'</td>\n",
              "    </tr>\n",
              "    <tr>\n",
              "      <th>3</th>\n",
              "      <td>0.024526</td>\n",
              "      <td>0.43236</td>\n",
              "      <td>0.27546</td>\n",
              "      <td>1.7833</td>\n",
              "      <td>-10.1050</td>\n",
              "      <td>0.56944</td>\n",
              "      <td>0.024526</td>\n",
              "      <td>1.3057</td>\n",
              "      <td>1.0509</td>\n",
              "      <td>0.56453</td>\n",
              "      <td>...</td>\n",
              "      <td>0.048398</td>\n",
              "      <td>0.043445</td>\n",
              "      <td>0.95160</td>\n",
              "      <td>0.142980</td>\n",
              "      <td>4.2286</td>\n",
              "      <td>5.0528</td>\n",
              "      <td>98.783</td>\n",
              "      <td>3.6950</td>\n",
              "      <td>3.4844</td>\n",
              "      <td>b'0'</td>\n",
              "    </tr>\n",
              "    <tr>\n",
              "      <th>4</th>\n",
              "      <td>0.188290</td>\n",
              "      <td>0.41504</td>\n",
              "      <td>0.34231</td>\n",
              "      <td>1.9279</td>\n",
              "      <td>-58.2740</td>\n",
              "      <td>0.00000</td>\n",
              "      <td>0.233580</td>\n",
              "      <td>1.4094</td>\n",
              "      <td>1.3393</td>\n",
              "      <td>0.58496</td>\n",
              "      <td>...</td>\n",
              "      <td>0.176480</td>\n",
              "      <td>0.321880</td>\n",
              "      <td>0.82635</td>\n",
              "      <td>0.073039</td>\n",
              "      <td>2.5912</td>\n",
              "      <td>7.0756</td>\n",
              "      <td>100.540</td>\n",
              "      <td>3.6303</td>\n",
              "      <td>4.6375</td>\n",
              "      <td>b'0'</td>\n",
              "    </tr>\n",
              "  </tbody>\n",
              "</table>\n",
              "<p>5 rows × 65 columns</p>\n",
              "</div>\n",
              "    <div class=\"colab-df-buttons\">\n",
              "\n",
              "  <div class=\"colab-df-container\">\n",
              "    <button class=\"colab-df-convert\" onclick=\"convertToInteractive('df-72c68db1-76d0-4a7c-8db1-94c920881d0d')\"\n",
              "            title=\"Convert this dataframe to an interactive table.\"\n",
              "            style=\"display:none;\">\n",
              "\n",
              "  <svg xmlns=\"http://www.w3.org/2000/svg\" height=\"24px\" viewBox=\"0 -960 960 960\">\n",
              "    <path d=\"M120-120v-720h720v720H120Zm60-500h600v-160H180v160Zm220 220h160v-160H400v160Zm0 220h160v-160H400v160ZM180-400h160v-160H180v160Zm440 0h160v-160H620v160ZM180-180h160v-160H180v160Zm440 0h160v-160H620v160Z\"/>\n",
              "  </svg>\n",
              "    </button>\n",
              "\n",
              "  <style>\n",
              "    .colab-df-container {\n",
              "      display:flex;\n",
              "      gap: 12px;\n",
              "    }\n",
              "\n",
              "    .colab-df-convert {\n",
              "      background-color: #E8F0FE;\n",
              "      border: none;\n",
              "      border-radius: 50%;\n",
              "      cursor: pointer;\n",
              "      display: none;\n",
              "      fill: #1967D2;\n",
              "      height: 32px;\n",
              "      padding: 0 0 0 0;\n",
              "      width: 32px;\n",
              "    }\n",
              "\n",
              "    .colab-df-convert:hover {\n",
              "      background-color: #E2EBFA;\n",
              "      box-shadow: 0px 1px 2px rgba(60, 64, 67, 0.3), 0px 1px 3px 1px rgba(60, 64, 67, 0.15);\n",
              "      fill: #174EA6;\n",
              "    }\n",
              "\n",
              "    .colab-df-buttons div {\n",
              "      margin-bottom: 4px;\n",
              "    }\n",
              "\n",
              "    [theme=dark] .colab-df-convert {\n",
              "      background-color: #3B4455;\n",
              "      fill: #D2E3FC;\n",
              "    }\n",
              "\n",
              "    [theme=dark] .colab-df-convert:hover {\n",
              "      background-color: #434B5C;\n",
              "      box-shadow: 0px 1px 3px 1px rgba(0, 0, 0, 0.15);\n",
              "      filter: drop-shadow(0px 1px 2px rgba(0, 0, 0, 0.3));\n",
              "      fill: #FFFFFF;\n",
              "    }\n",
              "  </style>\n",
              "\n",
              "    <script>\n",
              "      const buttonEl =\n",
              "        document.querySelector('#df-72c68db1-76d0-4a7c-8db1-94c920881d0d button.colab-df-convert');\n",
              "      buttonEl.style.display =\n",
              "        google.colab.kernel.accessAllowed ? 'block' : 'none';\n",
              "\n",
              "      async function convertToInteractive(key) {\n",
              "        const element = document.querySelector('#df-72c68db1-76d0-4a7c-8db1-94c920881d0d');\n",
              "        const dataTable =\n",
              "          await google.colab.kernel.invokeFunction('convertToInteractive',\n",
              "                                                    [key], {});\n",
              "        if (!dataTable) return;\n",
              "\n",
              "        const docLinkHtml = 'Like what you see? Visit the ' +\n",
              "          '<a target=\"_blank\" href=https://colab.research.google.com/notebooks/data_table.ipynb>data table notebook</a>'\n",
              "          + ' to learn more about interactive tables.';\n",
              "        element.innerHTML = '';\n",
              "        dataTable['output_type'] = 'display_data';\n",
              "        await google.colab.output.renderOutput(dataTable, element);\n",
              "        const docLink = document.createElement('div');\n",
              "        docLink.innerHTML = docLinkHtml;\n",
              "        element.appendChild(docLink);\n",
              "      }\n",
              "    </script>\n",
              "  </div>\n",
              "\n",
              "\n",
              "    <div id=\"df-f227a55b-e6ba-49e6-9714-dd2cd1e6a234\">\n",
              "      <button class=\"colab-df-quickchart\" onclick=\"quickchart('df-f227a55b-e6ba-49e6-9714-dd2cd1e6a234')\"\n",
              "                title=\"Suggest charts\"\n",
              "                style=\"display:none;\">\n",
              "\n",
              "<svg xmlns=\"http://www.w3.org/2000/svg\" height=\"24px\"viewBox=\"0 0 24 24\"\n",
              "     width=\"24px\">\n",
              "    <g>\n",
              "        <path d=\"M19 3H5c-1.1 0-2 .9-2 2v14c0 1.1.9 2 2 2h14c1.1 0 2-.9 2-2V5c0-1.1-.9-2-2-2zM9 17H7v-7h2v7zm4 0h-2V7h2v10zm4 0h-2v-4h2v4z\"/>\n",
              "    </g>\n",
              "</svg>\n",
              "      </button>\n",
              "\n",
              "<style>\n",
              "  .colab-df-quickchart {\n",
              "      --bg-color: #E8F0FE;\n",
              "      --fill-color: #1967D2;\n",
              "      --hover-bg-color: #E2EBFA;\n",
              "      --hover-fill-color: #174EA6;\n",
              "      --disabled-fill-color: #AAA;\n",
              "      --disabled-bg-color: #DDD;\n",
              "  }\n",
              "\n",
              "  [theme=dark] .colab-df-quickchart {\n",
              "      --bg-color: #3B4455;\n",
              "      --fill-color: #D2E3FC;\n",
              "      --hover-bg-color: #434B5C;\n",
              "      --hover-fill-color: #FFFFFF;\n",
              "      --disabled-bg-color: #3B4455;\n",
              "      --disabled-fill-color: #666;\n",
              "  }\n",
              "\n",
              "  .colab-df-quickchart {\n",
              "    background-color: var(--bg-color);\n",
              "    border: none;\n",
              "    border-radius: 50%;\n",
              "    cursor: pointer;\n",
              "    display: none;\n",
              "    fill: var(--fill-color);\n",
              "    height: 32px;\n",
              "    padding: 0;\n",
              "    width: 32px;\n",
              "  }\n",
              "\n",
              "  .colab-df-quickchart:hover {\n",
              "    background-color: var(--hover-bg-color);\n",
              "    box-shadow: 0 1px 2px rgba(60, 64, 67, 0.3), 0 1px 3px 1px rgba(60, 64, 67, 0.15);\n",
              "    fill: var(--button-hover-fill-color);\n",
              "  }\n",
              "\n",
              "  .colab-df-quickchart-complete:disabled,\n",
              "  .colab-df-quickchart-complete:disabled:hover {\n",
              "    background-color: var(--disabled-bg-color);\n",
              "    fill: var(--disabled-fill-color);\n",
              "    box-shadow: none;\n",
              "  }\n",
              "\n",
              "  .colab-df-spinner {\n",
              "    border: 2px solid var(--fill-color);\n",
              "    border-color: transparent;\n",
              "    border-bottom-color: var(--fill-color);\n",
              "    animation:\n",
              "      spin 1s steps(1) infinite;\n",
              "  }\n",
              "\n",
              "  @keyframes spin {\n",
              "    0% {\n",
              "      border-color: transparent;\n",
              "      border-bottom-color: var(--fill-color);\n",
              "      border-left-color: var(--fill-color);\n",
              "    }\n",
              "    20% {\n",
              "      border-color: transparent;\n",
              "      border-left-color: var(--fill-color);\n",
              "      border-top-color: var(--fill-color);\n",
              "    }\n",
              "    30% {\n",
              "      border-color: transparent;\n",
              "      border-left-color: var(--fill-color);\n",
              "      border-top-color: var(--fill-color);\n",
              "      border-right-color: var(--fill-color);\n",
              "    }\n",
              "    40% {\n",
              "      border-color: transparent;\n",
              "      border-right-color: var(--fill-color);\n",
              "      border-top-color: var(--fill-color);\n",
              "    }\n",
              "    60% {\n",
              "      border-color: transparent;\n",
              "      border-right-color: var(--fill-color);\n",
              "    }\n",
              "    80% {\n",
              "      border-color: transparent;\n",
              "      border-right-color: var(--fill-color);\n",
              "      border-bottom-color: var(--fill-color);\n",
              "    }\n",
              "    90% {\n",
              "      border-color: transparent;\n",
              "      border-bottom-color: var(--fill-color);\n",
              "    }\n",
              "  }\n",
              "</style>\n",
              "\n",
              "      <script>\n",
              "        async function quickchart(key) {\n",
              "          const quickchartButtonEl =\n",
              "            document.querySelector('#' + key + ' button');\n",
              "          quickchartButtonEl.disabled = true;  // To prevent multiple clicks.\n",
              "          quickchartButtonEl.classList.add('colab-df-spinner');\n",
              "          try {\n",
              "            const charts = await google.colab.kernel.invokeFunction(\n",
              "                'suggestCharts', [key], {});\n",
              "          } catch (error) {\n",
              "            console.error('Error during call to suggestCharts:', error);\n",
              "          }\n",
              "          quickchartButtonEl.classList.remove('colab-df-spinner');\n",
              "          quickchartButtonEl.classList.add('colab-df-quickchart-complete');\n",
              "        }\n",
              "        (() => {\n",
              "          let quickchartButtonEl =\n",
              "            document.querySelector('#df-f227a55b-e6ba-49e6-9714-dd2cd1e6a234 button');\n",
              "          quickchartButtonEl.style.display =\n",
              "            google.colab.kernel.accessAllowed ? 'block' : 'none';\n",
              "        })();\n",
              "      </script>\n",
              "    </div>\n",
              "\n",
              "    </div>\n",
              "  </div>\n"
            ],
            "application/vnd.google.colaboratory.intrinsic+json": {
              "type": "dataframe",
              "variable_name": "X"
            }
          },
          "metadata": {},
          "execution_count": 10
        }
      ],
      "source": [
        "X.head()"
      ]
    },
    {
      "cell_type": "code",
      "execution_count": 11,
      "metadata": {
        "editable": true,
        "pycharm": {
          "name": "#%%\n"
        },
        "tags": [],
        "id": "EWAIZKrUF56z",
        "outputId": "98eec1bb-2189-4f14-9212-333d7053f37f",
        "colab": {
          "base_uri": "https://localhost:8080/",
          "height": 458
        }
      },
      "outputs": [
        {
          "output_type": "execute_result",
          "data": {
            "text/plain": [
              "Attr1     float64\n",
              "Attr2     float64\n",
              "Attr3     float64\n",
              "Attr4     float64\n",
              "Attr5     float64\n",
              "           ...   \n",
              "Attr61    float64\n",
              "Attr62    float64\n",
              "Attr63    float64\n",
              "Attr64    float64\n",
              "class      object\n",
              "Length: 65, dtype: object"
            ],
            "text/html": [
              "<div>\n",
              "<style scoped>\n",
              "    .dataframe tbody tr th:only-of-type {\n",
              "        vertical-align: middle;\n",
              "    }\n",
              "\n",
              "    .dataframe tbody tr th {\n",
              "        vertical-align: top;\n",
              "    }\n",
              "\n",
              "    .dataframe thead th {\n",
              "        text-align: right;\n",
              "    }\n",
              "</style>\n",
              "<table border=\"1\" class=\"dataframe\">\n",
              "  <thead>\n",
              "    <tr style=\"text-align: right;\">\n",
              "      <th></th>\n",
              "      <th>0</th>\n",
              "    </tr>\n",
              "  </thead>\n",
              "  <tbody>\n",
              "    <tr>\n",
              "      <th>Attr1</th>\n",
              "      <td>float64</td>\n",
              "    </tr>\n",
              "    <tr>\n",
              "      <th>Attr2</th>\n",
              "      <td>float64</td>\n",
              "    </tr>\n",
              "    <tr>\n",
              "      <th>Attr3</th>\n",
              "      <td>float64</td>\n",
              "    </tr>\n",
              "    <tr>\n",
              "      <th>Attr4</th>\n",
              "      <td>float64</td>\n",
              "    </tr>\n",
              "    <tr>\n",
              "      <th>Attr5</th>\n",
              "      <td>float64</td>\n",
              "    </tr>\n",
              "    <tr>\n",
              "      <th>...</th>\n",
              "      <td>...</td>\n",
              "    </tr>\n",
              "    <tr>\n",
              "      <th>Attr61</th>\n",
              "      <td>float64</td>\n",
              "    </tr>\n",
              "    <tr>\n",
              "      <th>Attr62</th>\n",
              "      <td>float64</td>\n",
              "    </tr>\n",
              "    <tr>\n",
              "      <th>Attr63</th>\n",
              "      <td>float64</td>\n",
              "    </tr>\n",
              "    <tr>\n",
              "      <th>Attr64</th>\n",
              "      <td>float64</td>\n",
              "    </tr>\n",
              "    <tr>\n",
              "      <th>class</th>\n",
              "      <td>object</td>\n",
              "    </tr>\n",
              "  </tbody>\n",
              "</table>\n",
              "<p>65 rows × 1 columns</p>\n",
              "</div><br><label><b>dtype:</b> object</label>"
            ]
          },
          "metadata": {},
          "execution_count": 11
        }
      ],
      "source": [
        "X.dtypes"
      ]
    },
    {
      "cell_type": "code",
      "execution_count": 12,
      "metadata": {
        "pycharm": {
          "name": "#%%\n"
        },
        "id": "s8pyPIYFF560",
        "outputId": "e1e87d83-6185-4d1f-a617-15d05cb68fcc",
        "colab": {
          "base_uri": "https://localhost:8080/",
          "height": 349
        }
      },
      "outputs": [
        {
          "output_type": "execute_result",
          "data": {
            "text/plain": [
              "              Attr1         Attr2         Attr3         Attr4         Attr5  \\\n",
              "count  10503.000000  10503.000000  10503.000000  10485.000000  1.047800e+04   \n",
              "mean       0.052844      0.619911      0.095490      9.980499 -1.347662e+03   \n",
              "std        0.647797      6.427041      6.420056    523.691951  1.185806e+05   \n",
              "min      -17.692000      0.000000   -479.730000      0.002080 -1.190300e+07   \n",
              "25%        0.000686      0.253955      0.017461      1.040100 -5.207075e+01   \n",
              "50%        0.043034      0.464140      0.198560      1.605600  1.579300e+00   \n",
              "75%        0.123805      0.689330      0.419545      2.959500  5.608400e+01   \n",
              "max       52.652000    480.730000     17.708000  53433.000000  6.854400e+05   \n",
              "\n",
              "              Attr6         Attr7         Attr8         Attr9        Attr10  \\\n",
              "count  10503.000000  10503.000000  10489.000000  10500.000000  10503.000000   \n",
              "mean      -0.121159      0.065624     19.140113      1.819254      0.366093   \n",
              "std        6.970625      0.651152    717.756745      7.581659      6.428603   \n",
              "min     -508.120000    -17.692000     -2.081800     -1.215700   -479.730000   \n",
              "25%        0.000000      0.002118      0.431270      1.011275      0.297340   \n",
              "50%        0.000000      0.050945      1.111000      1.199000      0.515500   \n",
              "75%        0.072584      0.142275      2.857100      2.059100      0.725635   \n",
              "max       45.533000     52.652000  53432.000000    740.440000     11.837000   \n",
              "\n",
              "       ...        Attr55        Attr56        Attr57        Attr58  \\\n",
              "count  ...  1.050300e+04  10460.000000  10503.000000  10474.000000   \n",
              "mean   ...  6.638549e+03     -0.530082     -0.014817      3.848794   \n",
              "std    ...  5.989196e+04     55.978608     18.684047    190.201224   \n",
              "min    ... -7.513800e+05  -5691.700000  -1667.300000   -198.690000   \n",
              "25%    ...  1.462100e+01      0.005137      0.006796      0.875560   \n",
              "50%    ...  8.822900e+02      0.051765      0.106880      0.953060   \n",
              "75%    ...  4.348900e+03      0.130010      0.271310      0.995927   \n",
              "max    ...  3.380500e+06    293.150000    552.640000  18118.000000   \n",
              "\n",
              "             Attr59        Attr60        Attr61        Attr62        Attr63  \\\n",
              "count  10503.000000  9.911000e+03  10486.000000  1.046000e+04  10485.000000   \n",
              "mean       1.429319  5.713363e+02     13.935361  1.355370e+02      9.095149   \n",
              "std       77.273270  3.715967e+04     83.704103  2.599116e+04     31.419096   \n",
              "min     -172.070000  0.000000e+00     -6.590300 -2.336500e+06     -0.000156   \n",
              "25%        0.000000  5.533150e+00      4.486075  4.073700e+01      3.062800   \n",
              "50%        0.002976  9.952100e+00      6.677300  7.066400e+01      5.139200   \n",
              "75%        0.240320  2.093600e+01     10.587500  1.182200e+02      8.882600   \n",
              "max     7617.300000  3.660200e+06   4470.400000  1.073500e+06   1974.500000   \n",
              "\n",
              "             Attr64  \n",
              "count  10275.000000  \n",
              "mean      35.766800  \n",
              "std      428.298315  \n",
              "min       -0.000102  \n",
              "25%        2.023350  \n",
              "50%        4.059300  \n",
              "75%        9.682750  \n",
              "max    21499.000000  \n",
              "\n",
              "[8 rows x 64 columns]"
            ],
            "text/html": [
              "\n",
              "  <div id=\"df-c08d4510-e51f-4958-b678-175a09908f1b\" class=\"colab-df-container\">\n",
              "    <div>\n",
              "<style scoped>\n",
              "    .dataframe tbody tr th:only-of-type {\n",
              "        vertical-align: middle;\n",
              "    }\n",
              "\n",
              "    .dataframe tbody tr th {\n",
              "        vertical-align: top;\n",
              "    }\n",
              "\n",
              "    .dataframe thead th {\n",
              "        text-align: right;\n",
              "    }\n",
              "</style>\n",
              "<table border=\"1\" class=\"dataframe\">\n",
              "  <thead>\n",
              "    <tr style=\"text-align: right;\">\n",
              "      <th></th>\n",
              "      <th>Attr1</th>\n",
              "      <th>Attr2</th>\n",
              "      <th>Attr3</th>\n",
              "      <th>Attr4</th>\n",
              "      <th>Attr5</th>\n",
              "      <th>Attr6</th>\n",
              "      <th>Attr7</th>\n",
              "      <th>Attr8</th>\n",
              "      <th>Attr9</th>\n",
              "      <th>Attr10</th>\n",
              "      <th>...</th>\n",
              "      <th>Attr55</th>\n",
              "      <th>Attr56</th>\n",
              "      <th>Attr57</th>\n",
              "      <th>Attr58</th>\n",
              "      <th>Attr59</th>\n",
              "      <th>Attr60</th>\n",
              "      <th>Attr61</th>\n",
              "      <th>Attr62</th>\n",
              "      <th>Attr63</th>\n",
              "      <th>Attr64</th>\n",
              "    </tr>\n",
              "  </thead>\n",
              "  <tbody>\n",
              "    <tr>\n",
              "      <th>count</th>\n",
              "      <td>10503.000000</td>\n",
              "      <td>10503.000000</td>\n",
              "      <td>10503.000000</td>\n",
              "      <td>10485.000000</td>\n",
              "      <td>1.047800e+04</td>\n",
              "      <td>10503.000000</td>\n",
              "      <td>10503.000000</td>\n",
              "      <td>10489.000000</td>\n",
              "      <td>10500.000000</td>\n",
              "      <td>10503.000000</td>\n",
              "      <td>...</td>\n",
              "      <td>1.050300e+04</td>\n",
              "      <td>10460.000000</td>\n",
              "      <td>10503.000000</td>\n",
              "      <td>10474.000000</td>\n",
              "      <td>10503.000000</td>\n",
              "      <td>9.911000e+03</td>\n",
              "      <td>10486.000000</td>\n",
              "      <td>1.046000e+04</td>\n",
              "      <td>10485.000000</td>\n",
              "      <td>10275.000000</td>\n",
              "    </tr>\n",
              "    <tr>\n",
              "      <th>mean</th>\n",
              "      <td>0.052844</td>\n",
              "      <td>0.619911</td>\n",
              "      <td>0.095490</td>\n",
              "      <td>9.980499</td>\n",
              "      <td>-1.347662e+03</td>\n",
              "      <td>-0.121159</td>\n",
              "      <td>0.065624</td>\n",
              "      <td>19.140113</td>\n",
              "      <td>1.819254</td>\n",
              "      <td>0.366093</td>\n",
              "      <td>...</td>\n",
              "      <td>6.638549e+03</td>\n",
              "      <td>-0.530082</td>\n",
              "      <td>-0.014817</td>\n",
              "      <td>3.848794</td>\n",
              "      <td>1.429319</td>\n",
              "      <td>5.713363e+02</td>\n",
              "      <td>13.935361</td>\n",
              "      <td>1.355370e+02</td>\n",
              "      <td>9.095149</td>\n",
              "      <td>35.766800</td>\n",
              "    </tr>\n",
              "    <tr>\n",
              "      <th>std</th>\n",
              "      <td>0.647797</td>\n",
              "      <td>6.427041</td>\n",
              "      <td>6.420056</td>\n",
              "      <td>523.691951</td>\n",
              "      <td>1.185806e+05</td>\n",
              "      <td>6.970625</td>\n",
              "      <td>0.651152</td>\n",
              "      <td>717.756745</td>\n",
              "      <td>7.581659</td>\n",
              "      <td>6.428603</td>\n",
              "      <td>...</td>\n",
              "      <td>5.989196e+04</td>\n",
              "      <td>55.978608</td>\n",
              "      <td>18.684047</td>\n",
              "      <td>190.201224</td>\n",
              "      <td>77.273270</td>\n",
              "      <td>3.715967e+04</td>\n",
              "      <td>83.704103</td>\n",
              "      <td>2.599116e+04</td>\n",
              "      <td>31.419096</td>\n",
              "      <td>428.298315</td>\n",
              "    </tr>\n",
              "    <tr>\n",
              "      <th>min</th>\n",
              "      <td>-17.692000</td>\n",
              "      <td>0.000000</td>\n",
              "      <td>-479.730000</td>\n",
              "      <td>0.002080</td>\n",
              "      <td>-1.190300e+07</td>\n",
              "      <td>-508.120000</td>\n",
              "      <td>-17.692000</td>\n",
              "      <td>-2.081800</td>\n",
              "      <td>-1.215700</td>\n",
              "      <td>-479.730000</td>\n",
              "      <td>...</td>\n",
              "      <td>-7.513800e+05</td>\n",
              "      <td>-5691.700000</td>\n",
              "      <td>-1667.300000</td>\n",
              "      <td>-198.690000</td>\n",
              "      <td>-172.070000</td>\n",
              "      <td>0.000000e+00</td>\n",
              "      <td>-6.590300</td>\n",
              "      <td>-2.336500e+06</td>\n",
              "      <td>-0.000156</td>\n",
              "      <td>-0.000102</td>\n",
              "    </tr>\n",
              "    <tr>\n",
              "      <th>25%</th>\n",
              "      <td>0.000686</td>\n",
              "      <td>0.253955</td>\n",
              "      <td>0.017461</td>\n",
              "      <td>1.040100</td>\n",
              "      <td>-5.207075e+01</td>\n",
              "      <td>0.000000</td>\n",
              "      <td>0.002118</td>\n",
              "      <td>0.431270</td>\n",
              "      <td>1.011275</td>\n",
              "      <td>0.297340</td>\n",
              "      <td>...</td>\n",
              "      <td>1.462100e+01</td>\n",
              "      <td>0.005137</td>\n",
              "      <td>0.006796</td>\n",
              "      <td>0.875560</td>\n",
              "      <td>0.000000</td>\n",
              "      <td>5.533150e+00</td>\n",
              "      <td>4.486075</td>\n",
              "      <td>4.073700e+01</td>\n",
              "      <td>3.062800</td>\n",
              "      <td>2.023350</td>\n",
              "    </tr>\n",
              "    <tr>\n",
              "      <th>50%</th>\n",
              "      <td>0.043034</td>\n",
              "      <td>0.464140</td>\n",
              "      <td>0.198560</td>\n",
              "      <td>1.605600</td>\n",
              "      <td>1.579300e+00</td>\n",
              "      <td>0.000000</td>\n",
              "      <td>0.050945</td>\n",
              "      <td>1.111000</td>\n",
              "      <td>1.199000</td>\n",
              "      <td>0.515500</td>\n",
              "      <td>...</td>\n",
              "      <td>8.822900e+02</td>\n",
              "      <td>0.051765</td>\n",
              "      <td>0.106880</td>\n",
              "      <td>0.953060</td>\n",
              "      <td>0.002976</td>\n",
              "      <td>9.952100e+00</td>\n",
              "      <td>6.677300</td>\n",
              "      <td>7.066400e+01</td>\n",
              "      <td>5.139200</td>\n",
              "      <td>4.059300</td>\n",
              "    </tr>\n",
              "    <tr>\n",
              "      <th>75%</th>\n",
              "      <td>0.123805</td>\n",
              "      <td>0.689330</td>\n",
              "      <td>0.419545</td>\n",
              "      <td>2.959500</td>\n",
              "      <td>5.608400e+01</td>\n",
              "      <td>0.072584</td>\n",
              "      <td>0.142275</td>\n",
              "      <td>2.857100</td>\n",
              "      <td>2.059100</td>\n",
              "      <td>0.725635</td>\n",
              "      <td>...</td>\n",
              "      <td>4.348900e+03</td>\n",
              "      <td>0.130010</td>\n",
              "      <td>0.271310</td>\n",
              "      <td>0.995927</td>\n",
              "      <td>0.240320</td>\n",
              "      <td>2.093600e+01</td>\n",
              "      <td>10.587500</td>\n",
              "      <td>1.182200e+02</td>\n",
              "      <td>8.882600</td>\n",
              "      <td>9.682750</td>\n",
              "    </tr>\n",
              "    <tr>\n",
              "      <th>max</th>\n",
              "      <td>52.652000</td>\n",
              "      <td>480.730000</td>\n",
              "      <td>17.708000</td>\n",
              "      <td>53433.000000</td>\n",
              "      <td>6.854400e+05</td>\n",
              "      <td>45.533000</td>\n",
              "      <td>52.652000</td>\n",
              "      <td>53432.000000</td>\n",
              "      <td>740.440000</td>\n",
              "      <td>11.837000</td>\n",
              "      <td>...</td>\n",
              "      <td>3.380500e+06</td>\n",
              "      <td>293.150000</td>\n",
              "      <td>552.640000</td>\n",
              "      <td>18118.000000</td>\n",
              "      <td>7617.300000</td>\n",
              "      <td>3.660200e+06</td>\n",
              "      <td>4470.400000</td>\n",
              "      <td>1.073500e+06</td>\n",
              "      <td>1974.500000</td>\n",
              "      <td>21499.000000</td>\n",
              "    </tr>\n",
              "  </tbody>\n",
              "</table>\n",
              "<p>8 rows × 64 columns</p>\n",
              "</div>\n",
              "    <div class=\"colab-df-buttons\">\n",
              "\n",
              "  <div class=\"colab-df-container\">\n",
              "    <button class=\"colab-df-convert\" onclick=\"convertToInteractive('df-c08d4510-e51f-4958-b678-175a09908f1b')\"\n",
              "            title=\"Convert this dataframe to an interactive table.\"\n",
              "            style=\"display:none;\">\n",
              "\n",
              "  <svg xmlns=\"http://www.w3.org/2000/svg\" height=\"24px\" viewBox=\"0 -960 960 960\">\n",
              "    <path d=\"M120-120v-720h720v720H120Zm60-500h600v-160H180v160Zm220 220h160v-160H400v160Zm0 220h160v-160H400v160ZM180-400h160v-160H180v160Zm440 0h160v-160H620v160ZM180-180h160v-160H180v160Zm440 0h160v-160H620v160Z\"/>\n",
              "  </svg>\n",
              "    </button>\n",
              "\n",
              "  <style>\n",
              "    .colab-df-container {\n",
              "      display:flex;\n",
              "      gap: 12px;\n",
              "    }\n",
              "\n",
              "    .colab-df-convert {\n",
              "      background-color: #E8F0FE;\n",
              "      border: none;\n",
              "      border-radius: 50%;\n",
              "      cursor: pointer;\n",
              "      display: none;\n",
              "      fill: #1967D2;\n",
              "      height: 32px;\n",
              "      padding: 0 0 0 0;\n",
              "      width: 32px;\n",
              "    }\n",
              "\n",
              "    .colab-df-convert:hover {\n",
              "      background-color: #E2EBFA;\n",
              "      box-shadow: 0px 1px 2px rgba(60, 64, 67, 0.3), 0px 1px 3px 1px rgba(60, 64, 67, 0.15);\n",
              "      fill: #174EA6;\n",
              "    }\n",
              "\n",
              "    .colab-df-buttons div {\n",
              "      margin-bottom: 4px;\n",
              "    }\n",
              "\n",
              "    [theme=dark] .colab-df-convert {\n",
              "      background-color: #3B4455;\n",
              "      fill: #D2E3FC;\n",
              "    }\n",
              "\n",
              "    [theme=dark] .colab-df-convert:hover {\n",
              "      background-color: #434B5C;\n",
              "      box-shadow: 0px 1px 3px 1px rgba(0, 0, 0, 0.15);\n",
              "      filter: drop-shadow(0px 1px 2px rgba(0, 0, 0, 0.3));\n",
              "      fill: #FFFFFF;\n",
              "    }\n",
              "  </style>\n",
              "\n",
              "    <script>\n",
              "      const buttonEl =\n",
              "        document.querySelector('#df-c08d4510-e51f-4958-b678-175a09908f1b button.colab-df-convert');\n",
              "      buttonEl.style.display =\n",
              "        google.colab.kernel.accessAllowed ? 'block' : 'none';\n",
              "\n",
              "      async function convertToInteractive(key) {\n",
              "        const element = document.querySelector('#df-c08d4510-e51f-4958-b678-175a09908f1b');\n",
              "        const dataTable =\n",
              "          await google.colab.kernel.invokeFunction('convertToInteractive',\n",
              "                                                    [key], {});\n",
              "        if (!dataTable) return;\n",
              "\n",
              "        const docLinkHtml = 'Like what you see? Visit the ' +\n",
              "          '<a target=\"_blank\" href=https://colab.research.google.com/notebooks/data_table.ipynb>data table notebook</a>'\n",
              "          + ' to learn more about interactive tables.';\n",
              "        element.innerHTML = '';\n",
              "        dataTable['output_type'] = 'display_data';\n",
              "        await google.colab.output.renderOutput(dataTable, element);\n",
              "        const docLink = document.createElement('div');\n",
              "        docLink.innerHTML = docLinkHtml;\n",
              "        element.appendChild(docLink);\n",
              "      }\n",
              "    </script>\n",
              "  </div>\n",
              "\n",
              "\n",
              "    <div id=\"df-9b6a2b5a-4235-4028-b5f3-95313a841154\">\n",
              "      <button class=\"colab-df-quickchart\" onclick=\"quickchart('df-9b6a2b5a-4235-4028-b5f3-95313a841154')\"\n",
              "                title=\"Suggest charts\"\n",
              "                style=\"display:none;\">\n",
              "\n",
              "<svg xmlns=\"http://www.w3.org/2000/svg\" height=\"24px\"viewBox=\"0 0 24 24\"\n",
              "     width=\"24px\">\n",
              "    <g>\n",
              "        <path d=\"M19 3H5c-1.1 0-2 .9-2 2v14c0 1.1.9 2 2 2h14c1.1 0 2-.9 2-2V5c0-1.1-.9-2-2-2zM9 17H7v-7h2v7zm4 0h-2V7h2v10zm4 0h-2v-4h2v4z\"/>\n",
              "    </g>\n",
              "</svg>\n",
              "      </button>\n",
              "\n",
              "<style>\n",
              "  .colab-df-quickchart {\n",
              "      --bg-color: #E8F0FE;\n",
              "      --fill-color: #1967D2;\n",
              "      --hover-bg-color: #E2EBFA;\n",
              "      --hover-fill-color: #174EA6;\n",
              "      --disabled-fill-color: #AAA;\n",
              "      --disabled-bg-color: #DDD;\n",
              "  }\n",
              "\n",
              "  [theme=dark] .colab-df-quickchart {\n",
              "      --bg-color: #3B4455;\n",
              "      --fill-color: #D2E3FC;\n",
              "      --hover-bg-color: #434B5C;\n",
              "      --hover-fill-color: #FFFFFF;\n",
              "      --disabled-bg-color: #3B4455;\n",
              "      --disabled-fill-color: #666;\n",
              "  }\n",
              "\n",
              "  .colab-df-quickchart {\n",
              "    background-color: var(--bg-color);\n",
              "    border: none;\n",
              "    border-radius: 50%;\n",
              "    cursor: pointer;\n",
              "    display: none;\n",
              "    fill: var(--fill-color);\n",
              "    height: 32px;\n",
              "    padding: 0;\n",
              "    width: 32px;\n",
              "  }\n",
              "\n",
              "  .colab-df-quickchart:hover {\n",
              "    background-color: var(--hover-bg-color);\n",
              "    box-shadow: 0 1px 2px rgba(60, 64, 67, 0.3), 0 1px 3px 1px rgba(60, 64, 67, 0.15);\n",
              "    fill: var(--button-hover-fill-color);\n",
              "  }\n",
              "\n",
              "  .colab-df-quickchart-complete:disabled,\n",
              "  .colab-df-quickchart-complete:disabled:hover {\n",
              "    background-color: var(--disabled-bg-color);\n",
              "    fill: var(--disabled-fill-color);\n",
              "    box-shadow: none;\n",
              "  }\n",
              "\n",
              "  .colab-df-spinner {\n",
              "    border: 2px solid var(--fill-color);\n",
              "    border-color: transparent;\n",
              "    border-bottom-color: var(--fill-color);\n",
              "    animation:\n",
              "      spin 1s steps(1) infinite;\n",
              "  }\n",
              "\n",
              "  @keyframes spin {\n",
              "    0% {\n",
              "      border-color: transparent;\n",
              "      border-bottom-color: var(--fill-color);\n",
              "      border-left-color: var(--fill-color);\n",
              "    }\n",
              "    20% {\n",
              "      border-color: transparent;\n",
              "      border-left-color: var(--fill-color);\n",
              "      border-top-color: var(--fill-color);\n",
              "    }\n",
              "    30% {\n",
              "      border-color: transparent;\n",
              "      border-left-color: var(--fill-color);\n",
              "      border-top-color: var(--fill-color);\n",
              "      border-right-color: var(--fill-color);\n",
              "    }\n",
              "    40% {\n",
              "      border-color: transparent;\n",
              "      border-right-color: var(--fill-color);\n",
              "      border-top-color: var(--fill-color);\n",
              "    }\n",
              "    60% {\n",
              "      border-color: transparent;\n",
              "      border-right-color: var(--fill-color);\n",
              "    }\n",
              "    80% {\n",
              "      border-color: transparent;\n",
              "      border-right-color: var(--fill-color);\n",
              "      border-bottom-color: var(--fill-color);\n",
              "    }\n",
              "    90% {\n",
              "      border-color: transparent;\n",
              "      border-bottom-color: var(--fill-color);\n",
              "    }\n",
              "  }\n",
              "</style>\n",
              "\n",
              "      <script>\n",
              "        async function quickchart(key) {\n",
              "          const quickchartButtonEl =\n",
              "            document.querySelector('#' + key + ' button');\n",
              "          quickchartButtonEl.disabled = true;  // To prevent multiple clicks.\n",
              "          quickchartButtonEl.classList.add('colab-df-spinner');\n",
              "          try {\n",
              "            const charts = await google.colab.kernel.invokeFunction(\n",
              "                'suggestCharts', [key], {});\n",
              "          } catch (error) {\n",
              "            console.error('Error during call to suggestCharts:', error);\n",
              "          }\n",
              "          quickchartButtonEl.classList.remove('colab-df-spinner');\n",
              "          quickchartButtonEl.classList.add('colab-df-quickchart-complete');\n",
              "        }\n",
              "        (() => {\n",
              "          let quickchartButtonEl =\n",
              "            document.querySelector('#df-9b6a2b5a-4235-4028-b5f3-95313a841154 button');\n",
              "          quickchartButtonEl.style.display =\n",
              "            google.colab.kernel.accessAllowed ? 'block' : 'none';\n",
              "        })();\n",
              "      </script>\n",
              "    </div>\n",
              "\n",
              "    </div>\n",
              "  </div>\n"
            ],
            "application/vnd.google.colaboratory.intrinsic+json": {
              "type": "dataframe"
            }
          },
          "metadata": {},
          "execution_count": 12
        }
      ],
      "source": [
        "X.describe()"
      ]
    },
    {
      "cell_type": "code",
      "execution_count": 13,
      "metadata": {
        "editable": true,
        "tags": [],
        "id": "kE_lNBixF560",
        "outputId": "da00c9ab-f3e6-4910-ce87-054d841b5835",
        "colab": {
          "base_uri": "https://localhost:8080/"
        }
      },
      "outputs": [
        {
          "output_type": "execute_result",
          "data": {
            "text/plain": [
              "['net profit / total assets',\n",
              " 'total liabilities / total assets',\n",
              " 'working capital / total assets',\n",
              " 'current assets / short-term liabilities',\n",
              " '[(cash + short-term securities + receivables - short-term liabilities) / (operating expenses - depreciation)] * 365',\n",
              " 'retained earnings / total assets',\n",
              " 'EBIT / total assets',\n",
              " 'book value of equity / total liabilities',\n",
              " 'sales / total assets',\n",
              " 'equity / total assets',\n",
              " '(gross profit + extraordinary items + financial expenses) / total assets',\n",
              " 'gross profit / short-term liabilities',\n",
              " '(gross profit + depreciation) / sales',\n",
              " '(gross profit + interest) / total assets',\n",
              " '(total liabilities * 365) / (gross profit + depreciation)',\n",
              " '(gross profit + depreciation) / total liabilities',\n",
              " 'total assets / total liabilities',\n",
              " 'gross profit / total assets',\n",
              " 'gross profit / sales',\n",
              " '(inventory * 365) / sales',\n",
              " 'sales (n) / sales (n-1)',\n",
              " 'profit on operating activities / total assets',\n",
              " 'net profit / sales',\n",
              " 'gross profit (in 3 years) / total assets',\n",
              " '(equity - share capital) / total assets',\n",
              " '(net profit + depreciation) / total liabilities',\n",
              " 'profit on operating activities / financial expenses',\n",
              " 'working capital / fixed assets',\n",
              " 'logarithm of total assets',\n",
              " '(total liabilities - cash) / sales',\n",
              " '(gross profit + interest) / sales',\n",
              " '(current liabilities * 365) / cost of products sold',\n",
              " 'operating expenses / short-term liabilities',\n",
              " 'operating expenses / total liabilities',\n",
              " 'profit on sales / total assets',\n",
              " 'total sales / total assets',\n",
              " 'constant capital / total assets',\n",
              " 'profit on sales / sales',\n",
              " '(current assets - inventory - receivables) / short-term liabilities',\n",
              " 'total liabilities / ((profit on operating activities + depreciation) * (12/365))',\n",
              " 'profit on operating activities / sales',\n",
              " 'rotation receivables + inventory turnover in days',\n",
              " '(receivables * 365) / sales',\n",
              " 'net profit / inventory',\n",
              " '(current assets - inventory) / short-term liabilities',\n",
              " '(inventory * 365) / cost of products sold',\n",
              " 'EBITDA (profit on operating activities - depreciation) / total assets',\n",
              " 'EBITDA (profit on operating activities - depreciation) / sales',\n",
              " 'current assets / total liabilities',\n",
              " 'short-term liabilities / total assets',\n",
              " '(short-term liabilities * 365) / cost of products sold)',\n",
              " 'equity / fixed assets',\n",
              " 'constant capital / fixed assets',\n",
              " 'working capital',\n",
              " '(sales - cost of products sold) / sales',\n",
              " '(current assets - inventory - short-term liabilities) / (sales - gross profit - depreciation)',\n",
              " 'total costs / total sales',\n",
              " 'long-term liabilities / equity',\n",
              " 'sales / inventory',\n",
              " 'sales / receivables',\n",
              " '(short-term liabilities * 365) / sales',\n",
              " 'sales / short-term liabilities',\n",
              " 'sales / fixed assets']"
            ]
          },
          "metadata": {},
          "execution_count": 13
        }
      ],
      "source": [
        "feature_names"
      ]
    },
    {
      "cell_type": "markdown",
      "metadata": {
        "editable": true,
        "pycharm": {
          "name": "#%% md\n"
        },
        "tags": [],
        "id": "YFHHOi-cF560"
      },
      "source": [
        "DataFrame zawiera 64 atrybuty numeryczne o zróżnicowanych rozkładach wartości oraz kolumnę `\"class\"` typu `bytes` z klasami 0 i 1. Wiemy, że mamy do czynienia z klasyfikacją binarną - klasa 0 to brak bankructwa, klasa 1 to bankructwo w ciągu najbliższych 3 lat. Przyjrzyjmy się dokładniej naszym danym."
      ]
    },
    {
      "cell_type": "markdown",
      "metadata": {
        "editable": true,
        "tags": [
          "ex"
        ],
        "id": "7kfL8d44F560"
      },
      "source": [
        "### Zadanie 1 (0.5 punktu)"
      ]
    },
    {
      "cell_type": "markdown",
      "metadata": {
        "editable": true,
        "tags": [
          "ex"
        ],
        "id": "h8VCidkDF560"
      },
      "source": [
        "1. Wyodrębnij klasy jako osobną zmienną typu `pd.Series`, usuwając je z macierzy `X`. Przekonwertuj je na liczby całkowite.\n",
        "2. Narysuj wykres słupkowy częstotliwości obu klas w całym zbiorze. Upewnij się, że na osi X są numery lub nazwy klas, a oś Y ma wartości w procentach.\n",
        "\n",
        "**Uwaga:** sugerowane jest użycie `if` w podpunkcie 1, żeby można było tę komórkę bezpiecznie odpalić kilka razy."
      ]
    },
    {
      "cell_type": "code",
      "source": [
        "y = X[\"class\"]\n",
        "X=X.drop(columns = \"class\")\n"
      ],
      "metadata": {
        "id": "SlgSJgi9O8aI"
      },
      "execution_count": 44,
      "outputs": []
    },
    {
      "cell_type": "code",
      "execution_count": 67,
      "metadata": {
        "editable": true,
        "pycharm": {
          "name": "#%%\n"
        },
        "tags": [
          "ex"
        ],
        "id": "rpP-SolKF560",
        "outputId": "313f9ec8-88d8-4dfa-a158-3816f729bc44",
        "colab": {
          "base_uri": "https://localhost:8080/",
          "height": 611
        }
      },
      "outputs": [
        {
          "output_type": "stream",
          "name": "stdout",
          "text": [
            "0    b'0'\n",
            "1    b'0'\n",
            "2    b'0'\n",
            "3    b'0'\n",
            "4    b'0'\n",
            "Name: class, dtype: object\n",
            "495\n",
            "10008\n"
          ]
        },
        {
          "output_type": "display_data",
          "data": {
            "text/plain": [
              "<Figure size 640x480 with 1 Axes>"
            ],
            "image/png": "[encoded data removed]"
          },
          "metadata": {}
        }
      ],
      "source": [
        "print(y.head())\n",
        "zeros = 0\n",
        "ones = 0\n",
        "for element in y:\n",
        "  if element == b'1':\n",
        "    ones+=1\n",
        "  else:\n",
        "    zeros+=1\n",
        "print(ones)\n",
        "print(zeros)\n",
        "import matplotlib.pyplot as plt\n",
        "\n",
        "plt.bar([\"bankructwa\", \"pozostałe\"],[ones,zeros])\n",
        "\n",
        "# Opisy osi i tytuł\n",
        "plt.xlabel('Kategoria')\n",
        "plt.ylabel('Wartość')\n",
        "plt.title('Wykres bankructw firm')\n",
        "\n",
        "# Wyświetlenie wykresu\n",
        "plt.show()\n",
        "\n"
      ]
    },
    {
      "cell_type": "code",
      "execution_count": 66,
      "metadata": {
        "editable": true,
        "tags": [
          "ex"
        ],
        "id": "gBVimSRWF560",
        "outputId": "a697e5b8-857a-4cfc-ce91-720eb1f7d6f7",
        "colab": {
          "base_uri": "https://localhost:8080/"
        }
      },
      "outputs": [
        {
          "output_type": "stream",
          "name": "stdout",
          "text": [
            "Solution is correct!\n"
          ]
        }
      ],
      "source": [
        "assert \"class\" not in X.columns\n",
        "\n",
        "print(\"Solution is correct!\")\n"
      ]
    },
    {
      "cell_type": "markdown",
      "metadata": {
        "editable": true,
        "pycharm": {
          "name": "#%% md\n"
        },
        "tags": [],
        "id": "zryaICPVF561"
      },
      "source": [
        "Jak widać, klasa pozytywna jest w znacznej mniejszości, stanowi poniżej 5% zbioru. Taki problem nazywamy **klasyfikacją niezbalansowaną (imbalanced classification)**. Mamy tu **klasę dominującą (majority class)** oraz **klasę mniejszościową (minority class)**. Pechowo prawie zawsze interesuje nas ta druga, bo klasa większościowa nie niesie najczęściej żadnych interesujących informacji. Przykładowo, 99% badanych jest zdrowych, a 1% ma niewykryty nowotwór - z oczywistych przyczyn chcemy wykrywać właśnie sytuację rzadką (problem diagnozy jako klasyfikacji jest zasadniczo zawsze niezbalansowany). W dalszej części laboratorium poznamy szereg konsekwencji tego zjawiska i metody na radzenie sobie z nim.\n",
        "\n",
        "Mamy sporo cech w naszym zbiorze, wszystkie są numeryczne. Ciekawe, czy mają wartości brakujące, a jeśli tak, to ile? Policzymy to z pomocą biblioteki Pandas i metody `.isna()`. Domyślnie operuje ona na kolumnach, jak większość metod w w tej bibliotece. Sumę wartości per kolumna zwróci nam metoda `.sum()`. Jeżeli podzielimy to przez liczbę wierszy `len(X)`, to otrzymamy ułamek wartości brakujących w każdej kolumnie.\n",
        "\n",
        "Biblioteka Pandas potrafi też stworzyć wykres, z pomocą funkcji np. `.plot.hist()` czy `.plot.bar()`. Przyjmują one opcje formatowania wykresu z których korzysta biblioteka `matplotlib`."
      ]
    },
    {
      "cell_type": "code",
      "execution_count": 68,
      "metadata": {
        "editable": true,
        "pycharm": {
          "name": "#%%\n"
        },
        "tags": [],
        "id": "Cx5exnl6F561",
        "outputId": "86aa8b73-ff83-46ba-eb22-2008149f4bc8",
        "colab": {
          "base_uri": "https://localhost:8080/",
          "height": 464
        }
      },
      "outputs": [
        {
          "output_type": "execute_result",
          "data": {
            "text/plain": [
              "<Axes: title={'center': 'Fraction of missing values per column'}>"
            ]
          },
          "metadata": {},
          "execution_count": 68
        },
        {
          "output_type": "display_data",
          "data": {
            "text/plain": [
              "<Figure size 1500x500 with 1 Axes>"
            ],
            "image/png": "[encoded data removed]"
          },
          "metadata": {}
        }
      ],
      "source": [
        "na_perc = X.isna().sum() / len(X)\n",
        "na_perc.plot.bar(title=\"Fraction of missing values per column\", figsize=(15, 5))"
      ]
    },
    {
      "cell_type": "markdown",
      "metadata": {
        "editable": true,
        "pycharm": {
          "name": "#%% md\n"
        },
        "tags": [
          "ex"
        ],
        "id": "4UWn0tA4F561"
      },
      "source": [
        "Jak widać, cecha 37 ma bardzo dużo wartości brakujących, podczas gdy pozostałe cechy mają raczej niewielką ich liczbę. W takiej sytuacji najlepiej usunąć tę cechę, a pozostałe wartości brakujące **uzupełnić** (co realizowaliśmy już poprzednio). Pamiętaj, że imputacji dokonuje się dopiero po podziale na zbiór treningowy i testowy! W przeciwnym wypadku wykorzystywalibyśmy dane ze zbioru testowego, co sztucznie zawyżyłoby wyniki. Jest to błąd metodologiczny - **wyciek danych (data leakage)**.\n",
        "\n",
        "Podział na zbiór treningowy i testowy to pierwszy moment, kiedy niezbalansowanie danych nam przeszkadza. Jeżeli zrobimy to czysto losowo, to jest spora szansa, że w zbiorze testowym będzie tylko klasa negatywna - w końcu jest jej aż >95%. Dlatego wykorzystuje się **próbkowanie ze stratyfikacją (stratified sampling)**, dzięki któremu proporcje klas w zbiorze przed podziałem oraz obu zbiorach po podziale są takie same."
      ]
    },
    {
      "cell_type": "markdown",
      "metadata": {
        "editable": true,
        "tags": [
          "ex"
        ],
        "id": "YjXSXnWtF561"
      },
      "source": [
        "### Zadanie 2 (0.75 punktu)"
      ]
    },
    {
      "cell_type": "markdown",
      "metadata": {
        "editable": true,
        "tags": [
          "ex"
        ],
        "id": "6bN4knu2F561"
      },
      "source": [
        "1. Usuń kolumnę `\"Attr37\"` ze zbioru danych.\n",
        "2. Dokonaj podziału zbioru na treningowy i testowy w proporcjach 80%-20%, z przemieszaniem (`shuffle`), ze stratyfikacją, wykorzystując funkcję `train_test_split` ze Scikit-learn'a.\n",
        "3. Uzupełnij wartości brakujące średnią wartością cechy z pomocą klasy `SimpleImputer`.\n",
        "\n",
        "**Uwaga:**\n",
        "- jak wcześniej, sugerowane jest użycie `if` w podpunkcie 1,\n",
        "- pamiętaj o uwzględnieniu stałego ziarna `random_state=0`, aby wyniki były **reprodukowalne (reproducible)**,\n",
        "- `stratify` oczekuje wektora klas,\n",
        "- wartości do imputacji trzeba wyestymować na zbiorze treningowym (`.fit()`), a potem zastosować te nauczone wartości na obu podzbiorach (treningowym i testowym)."
      ]
    },
    {
      "cell_type": "code",
      "source": [
        "X=X.drop(columns = \"Attr37\")\n"
      ],
      "metadata": {
        "id": "GBfjR9ORRESi"
      },
      "execution_count": null,
      "outputs": []
    },
    {
      "cell_type": "code",
      "execution_count": 71,
      "metadata": {
        "editable": true,
        "pycharm": {
          "name": "#%%\n"
        },
        "tags": [
          "ex"
        ],
        "id": "jHlvdah8F561"
      },
      "outputs": [],
      "source": [
        "from sklearn.model_selection import train_test_split\n",
        "X_train, X_test, y_train, y_test = train_test_split(\n",
        "    X, y, test_size=0.2, stratify=y, random_state=0,shuffle=True\n",
        ")\n",
        "from sklearn.compose import ColumnTransformer\n",
        "categorical_pipeline = Pipeline(steps=[\n",
        "    (\"encoder\", one_hot_encoder)\n",
        "])\n",
        "column_transformer = ColumnTransformer(transformers=[(\"numerical\",numerical_pipeline)])  # your_code_here\n"
      ]
    },
    {
      "cell_type": "code",
      "execution_count": null,
      "metadata": {
        "editable": true,
        "tags": [
          "ex"
        ],
        "id": "vihxTJASF561"
      },
      "outputs": [],
      "source": [
        "import numpy as np\n",
        "\n",
        "assert \"Attr37\" not in X.columns\n",
        "assert not np.any(np.isnan(X_train))\n",
        "assert not np.any(np.isnan(X_test))\n",
        "\n",
        "print(\"Solution is correct!\")"
      ]
    },
    {
      "cell_type": "markdown",
      "metadata": {
        "editable": true,
        "pycharm": {
          "name": "#%% md\n"
        },
        "tags": [],
        "id": "EcJ8csS4F561"
      },
      "source": [
        "## Prosta klasyfikacja"
      ]
    },
    {
      "cell_type": "markdown",
      "metadata": {
        "editable": true,
        "pycharm": {
          "name": "#%% md\n"
        },
        "tags": [],
        "id": "4B_LPvFSF562"
      },
      "source": [
        "Zanim przejdzie się do modeli bardziej złożonych, trzeba najpierw wypróbować coś prostego, żeby mieć punkt odniesienia. Tworzy się dlatego **modele bazowe (baselines)**.\n",
        "\n",
        "W naszym przypadku będzie to **drzewo decyzyjne (decision tree)**. Jest to drzewo binarne z decyzjami if-else, prowadzącymi do klasyfikacji danego przykładu w liściu. Każdy podział w drzewie to pytanie postaci \"Czy wartość cechy X jest większa lub równa Y?\". Trening takiego drzewa to prosty algorytm zachłanny, bardzo przypomina budowę zwykłego drzewa binarnego. Ma on następujące kroki dla każdego węzła tego drzewa:\n",
        "1. Sprawdź po kolei wszystkie możliwe punkty podziału, czyli każdą (unikalną) wartość każdej cechy, po kolei.\n",
        "2. Dla każdego przypadku podziel zbiór na 2 części: niespełniający warunku (lewy potomek) i spełniający warunek (prawy potomek).\n",
        "3. Oblicz jakość podziału według wybranej funkcji jakości. Im lepiej warunek rozdziela klasy od siebie (imbardziej zunifikowane są węzły-dzieci), tym wyższa jakość podziału. Innymi słowy, chcemy, żeby do jednego dziecka trafiła jedna klasa, a do drugiego druga.\n",
        "4. Wybierz podział o najwyższej jakości.\n",
        "\n",
        "Taki algorytm wykonuje się rekurencyjnie, aż otrzymamy węzeł czysty (pure leaf), czyli taki, w którym są przykłady z tylko jednej klasy. Typowo wykorzystywaną funkcją jakości (kryterium podziału) jest entropia Shannona - im niższa entropia, tym bardziej jednolite są klasy w węźle (czyli wybieramy podział o najniższej entropii).\n",
        "\n",
        "Powyższe wytłumaczenie algorytmu jest oczywiście nieformalne i dość skrótowe. Doskonałe tłumaczenie, z interaktywnymi wizualizacjami, dostępne jest [tutaj](https://mlu-explain.github.io/decision-tree/). W formie filmów - [tutaj](https://www.youtube.com/watch?v=ZVR2Way4nwQ) oraz [tutaj](https://www.youtube.com/watch?v=_L39rN6gz7Y). Dla drzew do regresji - [ten film](https://www.youtube.com/watch?v=g9c66TUylZ4).\n",
        "\n",
        "<img src = https://miro.medium.com/max/1838/1*WyTsLwcAXivFCgNtF0OPqA.png width = \"642\" height = \"451\" >\n",
        "\n",
        "Warto zauważyć, że taka konstrukcja prowadzi zawsze do overfittingu. Otrzymanie liści czystych oznacza, że mamy 100% dokładności na zbiorze treningowym, czyli perfekcyjnie przeuczony klasyfikator. W związku z tym nasze predykcje mają bardzo niski bias, ale bardzo dużą wariancję. Pomimo tego drzewa potrafią dać bardzo przyzwoite wyniki, a w celu ich poprawy można je regularyzować, aby mieć mniej \"rozrośnięte\" drzewo. [Film dla zainteresowanych](https://www.youtube.com/watch?v=D0efHEJsfHo).\n"
      ]
    },
    {
      "cell_type": "markdown",
      "metadata": {
        "editable": true,
        "tags": [],
        "id": "x3__WF_JF562"
      },
      "source": [
        "Mając wytrenowany klasyfikator, trzeba oczywiście sprawdzić, jak dobrze on sobie radzi. Tu natrafiamy na kolejny problem z klasyfikacją niezbalansowaną - zwykła celność (accuracy) na pewno nie zadziała! Typowo wykorzystuje się AUC, nazywane też AUROC (Area Under Receiver Operating Characteristic), bo metryka ta uwzględnia niezbalansowanie klas.\n",
        "\n",
        "Bardzo dobre i bardziej szczegółowe wytłumaczenie, z interktywnymi wizualizacjami, można znaleć [tutaj](https://mlu-explain.github.io/roc-auc/). Dla preferujących filmy - [tutaj](https://www.youtube.com/watch?v=4jRBRDbJemM).\n",
        "\n",
        "Co ważne, z definicji AUROC, trzeba w niej użyć **prawdopodobieństw klasy pozytywnej** (klasy 1). W Scikit-learn'ie zwraca je metoda `.predict_proba()`, która w kolejnych kolumnach zwraca prawdopodobieństwa poszczególnych klas."
      ]
    },
    {
      "cell_type": "markdown",
      "metadata": {
        "editable": true,
        "tags": [
          "ex"
        ],
        "id": "XcWLZABcF562"
      },
      "source": [
        "### Zadanie 3 (0.75 punktu)"
      ]
    },
    {
      "cell_type": "markdown",
      "metadata": {
        "editable": true,
        "tags": [
          "ex"
        ],
        "id": "Vo3nPjCsF562"
      },
      "source": [
        "1. Wytrenuj klasyfikator drzewa decyzyjnego (klasa `DecisionTreeClassifier`). Użyj entropii jako kryterium podziału.\n",
        "2. Oblicz i wypisz AUROC na zbiorze testowym dla drzewa decyzyjnego (funkcja `roc_auc_score`).\n",
        "3. Skomentuj wynik - czy twoim zdaniem osiągnięty AUROC to dużo czy mało, biorąc pod uwagę możliwy zakres wartości tej metryki?\n",
        "\n",
        "**Uwaga:**\n",
        "- pamiętaj o użyciu stałego ziarna `random_state=0`,\n",
        "- jeżeli drzewo nie wyświetli się samo, użyj `plt.show()` z Matplotliba,\n",
        "- pamiętaj o tym, żeby przekazać do metryki AUROC **prawdopodobieństwa klasy pozytywnej**, a nie binarne predykcje!"
      ]
    },
    {
      "cell_type": "code",
      "execution_count": null,
      "metadata": {
        "editable": true,
        "pycharm": {
          "name": "#%%\n"
        },
        "tags": [
          "ex"
        ],
        "id": "MFAKlx83F562"
      },
      "outputs": [],
      "source": [
        "# your_code\n"
      ]
    },
    {
      "cell_type": "code",
      "execution_count": null,
      "metadata": {
        "editable": true,
        "tags": [
          "ex"
        ],
        "id": "_-GM88lZF562"
      },
      "outputs": [],
      "source": [
        "assert auroc > 0.7\n",
        "\n",
        "print(\"Solution is correct!\")"
      ]
    },
    {
      "cell_type": "markdown",
      "metadata": {
        "editable": true,
        "pycharm": {
          "name": "#%% md\n"
        },
        "tags": [
          "ex"
        ],
        "id": "2_04mBhFF562"
      },
      "source": [
        "// skomentuj tutaj"
      ]
    },
    {
      "cell_type": "markdown",
      "metadata": {
        "editable": true,
        "pycharm": {
          "name": "#%% md\n"
        },
        "tags": [],
        "id": "JTS1pL_8F562"
      },
      "source": [
        "## Uczenie zespołowe, bagging, lasy losowe"
      ]
    },
    {
      "cell_type": "markdown",
      "metadata": {
        "editable": true,
        "pycharm": {
          "name": "#%% md\n"
        },
        "tags": [],
        "id": "b2dbV8o9F562"
      },
      "source": [
        "Bardzo często wiele klasyfikatorów działających razem daje lepsze wyniki niż pojedynczy klasyfikator. Takie podejście nazywa się **uczeniem zespołowym (ensemble learning)**. Istnieje wiele różnych podejść do tworzenia takich klasyfikatorów złożonych (ensemble classifiers).\n",
        "\n",
        "Podstawową metodą jest **bagging**:\n",
        "1. Wylosuj N (np. 100, 500, ...) próbek boostrapowych (boostrap sample) ze zbioru treningowego. Próbka boostrapowa to po prostu losowanie ze zwracaniem, gdzie dla wejściowego zbioru z M wierszami losujemy M próbek (czyli tyle ile było w początkowym zbiorze), spośród N wylosowanych próbek. Będą tam powtórzenia, średnio nawet 1/3, ale się tym nie przejmujemy.\n",
        "2. Wytrenuj klasyfikator bazowy (base classifier) na każdej z próbek boostrapowych.\n",
        "3. Stwórz klasyfikator złożony poprzez uśrednienie predykcji każdego z klasyfikatorów bazowych.\n",
        "\n",
        "<img src = https://upload.wikimedia.org/wikipedia/commons/thumb/c/c8/Ensemble_Bagging.svg/440px-Ensemble_Bagging.svg.png width = \"440\" height = \"248\" >\n",
        "\n",
        "Typowo klasyfikatory bazowe są bardzo proste, żeby można było szybko wytrenować ich dużą liczbę. Prawie zawsze używa się do tego drzew decyzyjnych. Dla klasyfikacji uśrednienie wyników polega na głosowaniu - dla nowej próbki każdy klasyfikator bazowy ją klasyfikuje, sumuje się głosy na każdą klasę i zwraca najbardziej popularną decyzję.\n",
        "\n",
        "Taki sposób uczenia zmniejsza wariancję klasyfikatora. Intuicyjnie, skoro coś uśredniamy, to siłą rzeczy będzie mniej rozrzucone, bo dużo ciężej będzie osiągnąć jakąś skrajność. Redukuje to też overfitting.\n",
        "\n",
        "**Lasy losowe (Random Forests)** to ulepszenie baggingu. Zaobserwowano, że pomimo losowania próbek boostrapowych, w baggingu poszczególne drzewa są do siebie bardzo podobne (są skorelowane), używają podobnych cech ze zbioru. My natomiast chcemy zróżnicowania, żeby mieć niski bias - redukcją wariancji zajmuje się uśrednianie. Dlatego używa się metody losowej podprzestrzeni (random subspace method) - przy każdym podziale drzewa losuje się tylko pewien podzbiór cech, których możemy użyć do tego podziału. Typowo jest to pierwiastek kwadratowy z ogólnej liczby cech.\n",
        "\n",
        "Zarówno bagging, jak i lasy losowe mają dodatkowo bardzo przyjemną własność - są mało czułe na hiperparametry, szczególnie na liczbę drzew. W praktyce wystarczy ustawić 500 czy 1000 drzew i klasyfikator będzie dobrze działać. Dalsze dostrajanie hiperparametrów może jeszcze trochę poprawić wyniki, ale nie tak bardzo, jak przy innych klasyfikatorach. Jest to zatem doskonały wybór domyślny, kiedy nie wiemy, jakiego klasyfikatora użyć.\n",
        "\n",
        "Dodatkowo jest to problem **embarassingly parallel** - drzewa można trenować w 100% równolegle, dzięki czemu jest to dodatkowo wydajna obliczeniowo metoda.\n",
        "\n",
        "Głębsze wytłumaczenie, z interaktywnymi wizualizacjami, można znaleźć [tutaj](https://mlu-explain.github.io/random-forest/). Dobrze tłumaczy je też [ta seria filmów](https://www.youtube.com/watch?v=J4Wdy0Wc_xQ&t=480s)."
      ]
    },
    {
      "cell_type": "markdown",
      "metadata": {
        "editable": true,
        "tags": [
          "ex"
        ],
        "id": "-HgKSNKcF563"
      },
      "source": [
        "### Zadanie 4 (0.5 punktu)"
      ]
    },
    {
      "cell_type": "markdown",
      "metadata": {
        "editable": true,
        "tags": [
          "ex"
        ],
        "id": "CGWceEgPF563"
      },
      "source": [
        "1. Wytrenuj klasyfikator Random Forest (klasa `RandomForestClassifier`). Użyj 500 drzew i entropii jako kryterium podziału.\n",
        "2. Sprawdź AUROC na zbiorze testowym.\n",
        "3. Skomentuj wynik w odniesieniu do drzewa decyzyjnego.\n",
        "\n",
        "**Uwaga:** pamiętaj o ustawieniu `random_state=0`. Dla przyspieszenia ustaw `n_jobs=-1` (użyje tylu procesów, ile masz dostępnych rdzeni procesora). Pamiętaj też o przekazaniu prawdopodobieństw do metryki AUROC."
      ]
    },
    {
      "cell_type": "code",
      "execution_count": null,
      "metadata": {
        "editable": true,
        "pycharm": {
          "name": "#%%\n"
        },
        "tags": [
          "ex"
        ],
        "id": "KwVneLCyF563"
      },
      "outputs": [],
      "source": [
        "# your_code\n"
      ]
    },
    {
      "cell_type": "code",
      "execution_count": null,
      "metadata": {
        "editable": true,
        "tags": [
          "ex"
        ],
        "id": "gIh2WdBTF567"
      },
      "outputs": [],
      "source": [
        "assert auroc > 0.85\n",
        "\n",
        "print(\"Solution is correct!\")"
      ]
    },
    {
      "cell_type": "markdown",
      "metadata": {
        "editable": true,
        "pycharm": {
          "name": "#%% md\n"
        },
        "tags": [
          "ex"
        ],
        "id": "kg7SFvvBF567"
      },
      "source": [
        "// skomentuj tutaj"
      ]
    },
    {
      "cell_type": "markdown",
      "metadata": {
        "editable": true,
        "pycharm": {
          "name": "#%% md\n"
        },
        "tags": [],
        "id": "gGO0xb6dF567"
      },
      "source": [
        "Jak zobaczymy poniżej, wynik ten możemy jednak jeszcze ulepszyć!"
      ]
    },
    {
      "cell_type": "markdown",
      "metadata": {
        "editable": true,
        "pycharm": {
          "name": "#%% md\n"
        },
        "tags": [],
        "id": "sUgH907eF567"
      },
      "source": [
        "## Oversampling, SMOTE"
      ]
    },
    {
      "cell_type": "markdown",
      "metadata": {
        "editable": true,
        "pycharm": {
          "name": "#%% md\n"
        },
        "tags": [],
        "id": "hDOverbcF567"
      },
      "source": [
        "W przypadku zbiorów niezbalansowanych można dokonać **balansowania (balancing)** zbioru. Są tutaj 2 metody:\n",
        "- **undersampling**: usunięcie przykładów z klasy dominującej\n",
        "- **oversampling**: wygenerowanie dodatkowych przykładów z klasy mniejszościowej\n",
        "\n",
        "Undersampling działa dobrze, kiedy niezbalansowanie jest niewielkie, a zbiór jest duży (możemy sobie pozwolić na usunięcie jego części). Oversampling typowo daje lepsze wyniki, istnieją dla niego bardzo efektywne algorytmy. W przypadku bardzo dużego niezbalansowania można zrobić oba.\n",
        "\n",
        "Typowym algorytmem oversamplingu jest **SMOTE (Synthetic Minority Oversampling TEchnique)**. Działa on następująco:\n",
        "1. Idź po kolei po przykładach z klasy mniejszościowej.\n",
        "2. Znajdź `k` najbliższych przykładów dla próbki, typowo `k=5`.\n",
        "3. Wylosuj tylu sąsiadów, ile trzeba do oversamplingu, np. jeżeli chcemy zwiększyć klasę mniejszościową 3 razy (o 200%), to wylosuj 2 z 5 sąsiadów.\n",
        "4. Dla każdego z wylosowanych sąsiadów wylosuj punkt na linii prostej między próbką a tym sąsiadem. Dodaj ten punkt jako nową próbkę do zbioru.\n",
        "\n",
        "<img src = https://miro.medium.com/max/734/1*yRumRhn89acByodBz0H7oA.png >\n",
        "\n",
        "Taka technika generuje przykłady bardzo podobne do prawdziwych, więc nie zaburza zbioru, a jednocześnie pomaga klasyfikatorom, bo \"zagęszcza\" przestrzeń, w której znajduje się klasa pozytywna.\n",
        "\n",
        "Algorytm SMOTE, jego warianty i inne algorytmy dla problemów niezbalansowanych implementuje biblioteka Imbalanced-learn."
      ]
    },
    {
      "cell_type": "markdown",
      "metadata": {
        "editable": true,
        "execution": {
          "iopub.execute_input": "2024-10-07T13:36:43.138444Z",
          "iopub.status.busy": "2024-10-07T13:36:43.137348Z",
          "iopub.status.idle": "2024-10-07T13:36:43.147546Z",
          "shell.execute_reply": "2024-10-07T13:36:43.144776Z",
          "shell.execute_reply.started": "2024-10-07T13:36:43.138374Z"
        },
        "tags": [
          "ex"
        ],
        "id": "vuRM2LGlF567"
      },
      "source": [
        "### Zadanie 5 (1 punkt)"
      ]
    },
    {
      "cell_type": "markdown",
      "metadata": {
        "editable": true,
        "tags": [
          "ex"
        ],
        "id": "E6ibZe5uF567"
      },
      "source": [
        "Użyj SMOTE do zbalansowania zbioru treningowego (nie używa się go na zbiorze testowym!). Implementuje to klasa `SMOTE`. Wytrenuj drzewo decyzyjne oraz las losowy na zbalansowanym zbiorze, użyj tych samych argumentów co wcześniej. Pamiętaj o użyciu wszędzie stałego ziarna `random_state=0` oraz przekazaniu prawdopodobieństw do AUROC. Skomentuj wynik.\n",
        "\n",
        "Wartość ROC drzewa decyzyjnego przypisz do zmiennej `tree_roc`, a lasu do `forest_roc`."
      ]
    },
    {
      "cell_type": "code",
      "execution_count": null,
      "metadata": {
        "editable": true,
        "pycharm": {
          "name": "#%%\n"
        },
        "tags": [
          "ex"
        ],
        "id": "eclP3IIvF567"
      },
      "outputs": [],
      "source": [
        "# your_code\n"
      ]
    },
    {
      "cell_type": "code",
      "execution_count": null,
      "metadata": {
        "editable": true,
        "tags": [
          "ex"
        ],
        "id": "pS-fx8unF568"
      },
      "outputs": [],
      "source": [
        "assert 0.6 < tree_roc < 0.8\n",
        "assert 0.8 < forest_roc < 0.95\n",
        "\n",
        "print(\"Solution is correct!\")"
      ]
    },
    {
      "cell_type": "markdown",
      "metadata": {
        "editable": true,
        "pycharm": {
          "name": "#%% md\n"
        },
        "tags": [
          "ex"
        ],
        "id": "VrYUa2BJF568"
      },
      "source": [
        "// skomentuj tutaj"
      ]
    },
    {
      "cell_type": "markdown",
      "metadata": {
        "editable": true,
        "pycharm": {
          "name": "#%% md\n"
        },
        "tags": [],
        "id": "dW9hH0cNF568"
      },
      "source": [
        "W dalszej części laboratorium używaj zbioru po zastosowaniu SMOTE do treningu klasyfikatorów."
      ]
    },
    {
      "cell_type": "markdown",
      "metadata": {
        "editable": true,
        "pycharm": {
          "name": "#%% md\n"
        },
        "tags": [],
        "id": "bklrnTXdF568"
      },
      "source": [
        "## Dostrajanie (tuning) hiperparametrów"
      ]
    },
    {
      "cell_type": "markdown",
      "metadata": {
        "editable": true,
        "pycharm": {
          "name": "#%% md\n"
        },
        "tags": [],
        "id": "W9cPwb2wF568"
      },
      "source": [
        "Lasy losowe są stosunkowo mało czułe na dobór hiperparametrów - i dobrze, bo mają ich dość dużo. Można zawsze jednak spróbować to zrobić, a w szczególności najważniejszy jest parametr `max_features`, oznaczający, ile cech losować przy każdym podziale drzewa. Typowo sprawdza się wartości z zakresu `[0.1, 0.5]`.\n",
        "\n",
        "W kwestii szybkości, kiedy dostrajamy hiperparametry, to mniej oczywiste jest, jakiego `n_jobs` użyć. Z jednej strony klasyfikator może być trenowany na wielu procesach, a z drugiej można trenować wiele klasyfikatorów na różnych zestawach hiperparametrów równolegle. Jeżeli nasz klasyfikator bardzo dobrze się uwspółbieżnia (jak Random Forest), to można dać mu nawet wszystkie rdzenie, a za to wypróbowywać kolejne zestawy hiperparametrów sekwencyjnie. Warto ustawić parametr `verbose` na 2 lub więcej, żeby dostać logi podczas długiego treningu i mierzyć czas wykonania. W praktyce ustawia się to metodą prób i błędów."
      ]
    },
    {
      "cell_type": "markdown",
      "metadata": {
        "editable": true,
        "tags": [
          "ex"
        ],
        "id": "WeFH_TgwF568"
      },
      "source": [
        "### Zadanie 6 (1 punkt)"
      ]
    },
    {
      "cell_type": "markdown",
      "metadata": {
        "editable": true,
        "tags": [
          "ex"
        ],
        "id": "Yb2ed33aF568"
      },
      "source": [
        "1. Dobierz wartość hiperparametru `max_features`:\n",
        "   - użyj grid search z 5 foldami,\n",
        "   - wypróbuj wartości `[0.1, 0.2, 0.3, 0.4, 0.5]`,\n",
        "   - wybierz model o najwyższym AUROC (argument `scoring`).\n",
        "2. Sprawdź, jaka była optymalna wartość `max_features`. Jest to atrybut wytrenowanego `GridSearchCV`.\n",
        "3. Skomentuj wynik. Czy warto było poświęcić czas i zasoby na tę procedurę?\n",
        "4. Wynik przypisz do zmiennej `auroc`.\n",
        "\n",
        "**Uwaga:**\n",
        "- pamiętaj, żeby jako estymatora przekazanego do grid search'a użyć instancji Random Forest, która ma już ustawione `random_state=0` i `n_jobs`"
      ]
    },
    {
      "cell_type": "code",
      "execution_count": null,
      "metadata": {
        "editable": true,
        "pycharm": {
          "is_executing": true,
          "name": "#%%\n"
        },
        "tags": [
          "ex"
        ],
        "id": "tEGKue-nF568"
      },
      "outputs": [],
      "source": [
        "# your_code\n"
      ]
    },
    {
      "cell_type": "code",
      "execution_count": null,
      "metadata": {
        "editable": true,
        "tags": [
          "ex"
        ],
        "id": "uKudyC__F568"
      },
      "outputs": [],
      "source": [
        "assert 0.9 <= auroc <= 0.95\n",
        "\n",
        "print(\"Solution is correct!\")"
      ]
    },
    {
      "cell_type": "markdown",
      "metadata": {
        "editable": true,
        "pycharm": {
          "name": "#%% md\n"
        },
        "tags": [
          "ex"
        ],
        "id": "fb1EnbW9F568"
      },
      "source": [
        "// skomentuj tutaj"
      ]
    },
    {
      "cell_type": "markdown",
      "metadata": {
        "editable": true,
        "pycharm": {
          "name": "#%% md\n"
        },
        "tags": [],
        "id": "k3kTIhDHF568"
      },
      "source": [
        "W praktycznych zastosowaniach osoba trenująca model wedle własnego uznana, doświadczenia, dostępnego czasu i zasobów wybiera, czy dostrajać hiperparametry i w jak szerokim zakresie. Dla Random Forest na szczęście często może nie być znaczącej potrzeby i za to go lubimy :)"
      ]
    },
    {
      "cell_type": "markdown",
      "metadata": {
        "editable": true,
        "pycharm": {
          "name": "#%% md\n"
        },
        "tags": [],
        "id": "ll38YvXRF568"
      },
      "source": [
        "**Random Forest - podsumowanie**\n",
        "\n",
        "1. Model oparty o uczenie zespołowe.\n",
        "2. Kluczowe elementy:\n",
        "   - bagging: uczenie wielu klasyfikatorów na próbkach boostrapowych,\n",
        "   - metoda losowej podprzestrzeni: losujemy podzbiór cech do każdego podziału drzewa,\n",
        "   - uśredniamy głosy klasyfikatorów.\n",
        "3. Dość odporny na overfitting, zmniejsza wariancję błędu dzięki uśrednianiu.\n",
        "4. Mało czuły na hiperparametry.\n",
        "5. Przeciętnie daje bardzo dobre wyniki, doskonały wybór domyślny przy wybieraniu algorytmu klasyfikacji."
      ]
    },
    {
      "cell_type": "markdown",
      "metadata": {
        "editable": true,
        "pycharm": {
          "name": "#%% md\n"
        },
        "tags": [],
        "id": "FH016T7hF568"
      },
      "source": [
        "## Boosting"
      ]
    },
    {
      "cell_type": "markdown",
      "metadata": {
        "editable": true,
        "pycharm": {
          "name": "#%% md\n"
        },
        "tags": [],
        "id": "W-jH40XDF569"
      },
      "source": [
        "Drugą bardzo ważną grupą algorytmów ensemblingu jest **boosting**, też oparty o drzewa decyzyjne. O ile Random Forest trenował wszystkie klasyfikatory bazowe równolegle i je uśredniał, o tyle boosting robi to sekwencyjnie. Drzewa te uczą się na całym zbiorze, nie na próbkach boostrapowych. Idea jest następująca: trenujemy drzewo decyzyjne, radzi sobie przeciętnie i popełnia błędy na częsci przykładów treningowych. Dokładamy kolejne, ale znające błędy swojego poprzednika, dzięki czemu może to uwzględnić i je poprawić. W związku z tym \"boostuje\" się dzięki wiedzy od poprzednika. Dokładamy kolejne drzewa zgodnie z tą samą zasadą.\n",
        "\n",
        "Jak uczyć się na błędach poprzednika? Jest to pewna **funkcja kosztu** (błędu), którą chcemy zminimalizować. Zakłada się jakąś jej konkretną postać, np. squared error dla regresji, albo logistic loss dla klasyfikacji. Później wykorzystuje się spadek wzdłuż gradientu (gradient descent), aby nauczyć się, w jakim kierunku powinny optymalizować kolejne drzewa, żeby zminimalizować błędy poprzednika. Jest to konkretnie **gradient boosting**, absolutnie najpopularniejsza forma boostingu, i jeden z najpopularniejszych i osiągających najlepsze wyniki algorytmów ML.\n",
        "\n",
        "Tyle co do intuicji. Ogólny algorytm gradient boostingu jest trochę bardziej skomplikowany. Bardzo dobrze i krok po kroku tłumaczy go [ta seria filmów na YT](https://www.youtube.com/watch?v=3CC4N4z3GJc). Szczególnie ważne implementacje gradient boostingu to **XGBoost (Extreme Gradient Boosting)** oraz **LightGBM (Light Gradient Boosting Machine)**. XGBoost był prawdziwym przełomem w ML, uzyskując doskonałe wyniki i bardzo dobrze się skalując - był wykorzystany w CERNie do wykrywania cząstki Higgsa w zbiorze z pomiarów LHC mającym 10 milionów próbek. Jego implementacja jest dość złożona, ale dobrze tłumaczy ją [inna seria filmików na YT](https://www.youtube.com/watch?v=OtD8wVaFm6E).\n",
        "\n",
        "![](https://github.com/agh-cs-ai/sztuczna-inteligencja/blob/master/lab2/xgboost.png?raw=1)\n",
        "\n",
        "Obecnie najczęściej wykorzystuje się LightGBM. Został stworzony przez Microsoft na podstawie doświadczeń z XGBoostem. Został jeszcze bardziej ulepszony i przyspieszony, ale różnice są głównie implementacyjne. Różnice dobrze tłumaczy [ta prezentacja z konferencji PyData](https://www.youtube.com/watch?v=5CWwwtEM2TA) oraz [prezentacja Microsoftu](https://www.youtube.com/watch?v=5nKSMXBFhes). Dla zainteresowanych - [praktyczne aspekty LightGBM](https://www.kaggle.com/code/prashant111/lightgbm-classifier-in-python/notebook)."
      ]
    },
    {
      "cell_type": "markdown",
      "metadata": {
        "editable": true,
        "tags": [
          "ex"
        ],
        "id": "JmoXqUZFF569"
      },
      "source": [
        "### Zadanie 7 (0.5 punktu)"
      ]
    },
    {
      "cell_type": "markdown",
      "metadata": {
        "editable": true,
        "tags": [
          "ex"
        ],
        "id": "yg6_SrQLF569"
      },
      "source": [
        "1. Wytrenuj klasyfikator LightGBM (klasa `LGBMClassifier`). Przekaż `importance_type=\"gain\"` - przyda nam się to za chwilę.\n",
        "2. Sprawdź AUROC na zbiorze testowym.\n",
        "3. Skomentuj wynik w odniesieniu do wcześniejszych algorytmów.\n",
        "\n",
        "Pamiętaj o `random_state`, `n_jobs` i prawdopodobieństwach dla AUROC."
      ]
    },
    {
      "cell_type": "code",
      "execution_count": null,
      "metadata": {
        "editable": true,
        "pycharm": {
          "is_executing": true,
          "name": "#%%\n"
        },
        "tags": [
          "ex"
        ],
        "id": "WvYkN383F569"
      },
      "outputs": [],
      "source": [
        "# your_code\n"
      ]
    },
    {
      "cell_type": "code",
      "execution_count": null,
      "metadata": {
        "editable": true,
        "tags": [
          "ex"
        ],
        "id": "Unl6CCu-F569"
      },
      "outputs": [],
      "source": [
        "assert 0.9 <= auroc <= 0.97\n",
        "\n",
        "print(\"Solution is correct!\")"
      ]
    },
    {
      "cell_type": "markdown",
      "metadata": {
        "editable": true,
        "pycharm": {
          "name": "#%% md\n"
        },
        "tags": [
          "ex"
        ],
        "id": "Ei9i2_EYF569"
      },
      "source": [
        "// skomentuj tutaj"
      ]
    },
    {
      "cell_type": "markdown",
      "metadata": {
        "editable": true,
        "pycharm": {
          "name": "#%% md\n"
        },
        "tags": [],
        "id": "wUpKfvpeF569"
      },
      "source": [
        "Boosting dzięki uczeniu na poprzednich drzewach redukuje nie tylko wariancję, ale też bias w błędzie, dzięki czemu może w wielu przypadkach osiągnąć lepsze rezultaty od lasu losowego. Do tego dzięki znakomitej implementacji LightGBM jest szybszy.\n",
        "\n",
        "Boosting jest jednak o wiele bardziej czuły na hiperparametry niż Random Forest. W szczególności bardzo łatwo go przeuczyć, a większość hiperparametrów, których jest dużo, wiąże się z regularyzacją modelu. To, że teraz poszło nam lepiej z domyślnymi, jest rzadkim przypadkiem.\n",
        "\n",
        "W związku z tym, że przestrzeń hiperparametrów jest duża, przeszukanie wszystkich kombinacji nie wchodzi w grę. Zamiast tego można wylosować zadaną liczbę zestawów hiperparametrów i tylko je sprawdzić - chociaż im więcej, tym lepsze wyniki powinniśmy dostać. Służy do tego `RandomizedSearchCV`. Co więcej, klasa ta potrafi próbkować rozkłady prawdopodobieństwa, a nie tylko sztywne listy wartości, co jest bardzo przydatne przy parametrach ciągłych.\n",
        "\n",
        "Hiperparametry LightGBMa są dobrze opisane w oficjalnej dokumentacji: [wersja krótsza](https://lightgbm.readthedocs.io/en/latest/pythonapi/lightgbm.LGBMClassifier.html#lightgbm.LGBMClassifier) i [wersja dłuższa](https://lightgbm.readthedocs.io/en/latest/Parameters.html). Jest ich dużo, więc nie będziemy ich tutaj omawiać. Jeżeli chodzi o ich dostrajanie w praktyce, to przydatny jest [oficjalny przewodnik](https://lightgbm.readthedocs.io/en/latest/Parameters-Tuning.html) oraz dyskusje na Kaggle."
      ]
    },
    {
      "cell_type": "markdown",
      "metadata": {
        "editable": true,
        "tags": [
          "ex"
        ],
        "id": "66zRdAETF569"
      },
      "source": [
        "### Zadanie 8 (1.5 punktu)"
      ]
    },
    {
      "cell_type": "markdown",
      "metadata": {
        "editable": true,
        "tags": [
          "ex"
        ],
        "id": "EZsoT5B2F569"
      },
      "source": [
        "1. Zaimplementuj random search dla LightGBMa (klasa `RandomizedSearchCV`):\n",
        "   - użyj tylu prób, na ile pozwalają twoje zasoby obliczeniowe, ale przynajmniej 30,\n",
        "   - przeszukaj przestrzeń hiperparametrów:\n",
        "    ```\n",
        "    param_grid = {\n",
        "        \"n_estimators\": [100, 250, 500],\n",
        "        \"learning_rate\": [0.05, 0.1, 0.2],\n",
        "        \"num_leaves\": [31, 48, 64],\n",
        "        \"colsample_bytree\": [0.8, 0.9, 1.0],\n",
        "        \"subsample\": [0.8, 0.9, 1.0],\n",
        "    }\n",
        "    ```\n",
        "2. Wypisz znalezione optymalne hiperparametry.\n",
        "3. Wypisz raporty z klasyfikacji (funkcja `classification_report`), dla modelu LightGBM bez i z dostrajaniem hiperparametrów.\n",
        "4. Skomentuj różnicę precyzji (precision) i czułości (recall) między modelami bez i z dostrajaniem hiperparametrów. Czy jest to pożądane zjawisko w tym przypadku?\n",
        "5. Wartość ROC przypisz do zmiennej `auroc`.\n",
        "\n",
        "**Uwaga:**\n",
        "- koniecznie ustaw `verbose=-1` przy tworzeniu `LGBMClassifier`, żeby uniknąć kolosalnej ilości logów, która potrafi też wyłączyć Jupytera\n",
        "- pamiętaj o ustawieniu `importance_type`, `random_state=0` i `n_jobs`, oraz ewentualnie `verbose` w `RandomizedSearchCV` dla śledzenia przebiegu\n",
        "- istnieje możliwość, że ustawienie `n_jobs` dla grid searcha będzie szybsze niż dla samego LightGBM; odpowiada to tuningowi wielu klasyfikatorów równolegle, przy wolniejszym treningu pojedynczych klasyfikatorów\n",
        "- nie ustawiaj wszędzie `n_jobs=-1`, bo wtedy stworzysz więcej procesów niż rdzeni i spowodujesz thread contention"
      ]
    },
    {
      "cell_type": "code",
      "execution_count": null,
      "metadata": {
        "editable": true,
        "pycharm": {
          "is_executing": true,
          "name": "#%%\n"
        },
        "tags": [
          "ex"
        ],
        "id": "tXf_zLFFF569"
      },
      "outputs": [],
      "source": [
        "# your_code\n"
      ]
    },
    {
      "cell_type": "code",
      "execution_count": null,
      "metadata": {
        "editable": true,
        "tags": [
          "ex"
        ],
        "id": "M05SqAGsF569"
      },
      "outputs": [],
      "source": [
        "assert 0.9 <= auroc <= 0.99\n",
        "\n",
        "print(\"Solution is correct!\")"
      ]
    },
    {
      "cell_type": "markdown",
      "metadata": {
        "editable": true,
        "pycharm": {
          "name": "#%% md\n"
        },
        "tags": [
          "ex"
        ],
        "id": "zXamTD_mF569"
      },
      "source": [
        "// skomentuj tutaj"
      ]
    },
    {
      "cell_type": "markdown",
      "metadata": {
        "editable": true,
        "pycharm": {
          "name": "#%% md\n"
        },
        "tags": [],
        "id": "inTMvZSoF569"
      },
      "source": [
        "**Boosting - podsumowanie**\n",
        "\n",
        "1. Model oparty o uczenie zespołowe.\n",
        "2. Kolejne modele są dodawane sekwencyjnie i uczą się na błędach poprzedników.\n",
        "3. Nauka typowo jest oparta o minimalizację funkcji kosztu (błędu), z użyciem spadku wzdłuż gradientu.\n",
        "4. Wiodący model klasyfikacji dla danych tabelarycznych, z 2 głównymi implementacjami: XGBoost i LightGBM.\n",
        "5. Liczne hiperparametry, wymagające odpowiednich metod dostrajania."
      ]
    },
    {
      "cell_type": "markdown",
      "metadata": {
        "editable": true,
        "pycharm": {
          "name": "#%% md\n"
        },
        "tags": [],
        "id": "VTCt-iHsF56-"
      },
      "source": [
        "## Wyjaśnialna AI"
      ]
    },
    {
      "cell_type": "markdown",
      "metadata": {
        "editable": true,
        "pycharm": {
          "name": "#%% md\n"
        },
        "tags": [],
        "id": "uKZDoUewF56-"
      },
      "source": [
        "W ostatnich latach zaczęto zwracać coraz większą uwagę na wpływ sztucznej inteligencji na społeczeństwo, a na niektórych czołowych konferencjach ML nawet obowiązkowa jest sekcja \"Social impact\" w artykułach naukowych. Typowo im lepszy model, tym bardziej złożony, a najpopularniejsze modele boostingu są z natury skomplikowane. Kiedy mają podejmować krytyczne decyzje, to musimy wiedzieć, czemu predykcja jest taka, a nie inna. Jest to poddziedzina uczenia maszynowego - **wyjaśnialna AI (explainable AI, XAI)**.\n",
        "\n",
        "Taka informacja jest cenna, bo dzięki temu lepiej wiemy, co robi model. Jest to ważne z kilku powodów:\n",
        "1. Wymogi prawne - wdrażanie algorytmów w ekonomii, prawie etc. ma coraz częściej konkretne wymagania prawne co do wyjaśnialności predykcji.\n",
        "2. Dodatkowa wiedza dla użytkowników - często dodatkowe obserwacje co do próbek są ciekawe same w sobie i dają wiedzę użytkownikowi (często posiadającemu specjalistyczną wiedzę z dziedziny), czasem nawet bardziej niż sam model predykcyjny.\n",
        "3. Analiza modelu - dodatkowa wiedza o wewnętrznym działaniu algorytmu pozwala go lepiej zrozumieć i ulepszyć wyniki, np. przez lepszy preprocessing danych.\n",
        "\n",
        "W szczególności można ją podzielić na **globalną** oraz **lokalną interpretowalność (global / local interpretability)**. Ta pierwsza próbuje wyjaśnić, czemu ogólnie model działa tak, jak działa. Analizuje strukturę modelu oraz trendy w jego predykcjach, aby podsumować w prostszy sposób jego tok myślenia. Interpretowalność lokalna z kolei dotyczy predykcji dla konkretnych próbek - czemu dla danego przykładu model podejmuje dla niego taką, a nie inną decyzję o klasyfikacji.\n",
        "\n",
        "W szczególności podstawowym sposobem interpretowalności jest **ważność cech (feature importance)**. Wyznacza ona, jak ważne są poszczególne cechy:\n",
        "- w wariancie globalnym, jak mocno model opiera się na poszczególnych cechach,\n",
        "- w wariancie lokalnym, jak mocno konkretne wartości cech wpłynęły na predykcję, i w jaki sposób.\n",
        "\n",
        "Teraz będzie nas interesować globalna ważność cech. Dla modeli drzewiastych definiuje się ją bardzo prosto. Każdy podział w drzewie decyzyjnym wykorzystuje jakąś cechę i redukuje z pomocą podziału funkcję kosztu (np. entropię) o określoną ilość. Dla drzewa decyzyjnego ważność to sumaryczna redukcja entropii, jaką udało się uzyskać za pomocą danej cechy. Dla lasów losowych i boostingu sumujemy te wartości dla wszystkich drzew. Alternatywnie można też użyć liczby splitów, w jakiej została użyta dana cecha, ale jest to mniej standardowe.\n",
        "\n",
        "Warto zauważyć, że taka ważność cech jest **względna**:\n",
        "- nie mówimy, jak bardzo ogólnie ważna jest jakaś cecha, tylko jak bardzo przydatna była dla naszego modelu w celu jego wytrenowania,\n",
        "- ważność cech można tylko porównywać ze sobą, np. jedna jest 2 razy ważniejsza od drugiej; nie ma ogólnych progów ważności.\n",
        "\n",
        "Ze względu na powyższe, ważności cech normalizuje się często do zakresu [0, 1] dla łatwiejszego porównywania."
      ]
    },
    {
      "cell_type": "markdown",
      "metadata": {
        "editable": true,
        "tags": [
          "ex"
        ],
        "id": "rbQgfyfQF56-"
      },
      "source": [
        "### Zadanie 9 (0.5 punktu)"
      ]
    },
    {
      "cell_type": "markdown",
      "metadata": {
        "editable": true,
        "tags": [
          "ex"
        ],
        "id": "YdMiCR81F56-"
      },
      "source": [
        "1. Wybierz 5 najważniejszych cech dla drzewa decyzyjnego. Przedstaw wyniki na poziomym wykresie słupkowym. Użyj czytelnych nazw cech ze zmiennej `feature_names`.\n",
        "2. Powtórz powyższe dla lasu losowego, oraz dla boostingu (tutaj znormalizuj wyniki - patrz uwaga niżej). Wybierz te hiperparametry, które dały wcześniej najlepsze wyniki.\n",
        "3. Skomentuj, czy wybrane cechy twoim zdaniem mają sens jako najważniejsze cechy.\n",
        "\n",
        "**Uwaga:** Scikit-learn normalizuje ważności do zakresu [0, 1], natomiast LightGBM nie. Musisz to znormalizować samodzielnie, dzieląc przez sumę."
      ]
    },
    {
      "cell_type": "code",
      "execution_count": null,
      "metadata": {
        "editable": true,
        "tags": [
          "ex"
        ],
        "id": "Th56wWnsF56-"
      },
      "outputs": [],
      "source": [
        "# your_code\n"
      ]
    },
    {
      "cell_type": "markdown",
      "metadata": {
        "editable": true,
        "tags": [
          "ex"
        ],
        "id": "zt7LVLk2F56-"
      },
      "source": [
        "// skomentuj tutaj"
      ]
    },
    {
      "cell_type": "markdown",
      "metadata": {
        "id": "rKfxWxn3F56-"
      },
      "source": [
        "### Dla zainteresowanych\n",
        "\n",
        "Najpopularniejszym podejściem do interpretowalności lokalnych jest **SHAP (SHapley Additive exPlanations)**, metoda oparta o kooperatywną teorię gier. Traktuje się cechy modelu jak zbiór graczy, podzielonych na dwie drużyny (koalicje): jedna chce zaklasyfikować próbkę jako negatywną, a druga jako pozytywną. O ostatecznej decyzji decyduje model, który wykorzystuje te wartości cech. Powstaje pytanie - w jakim stopniu wartości cech przyczyniły się do wyniku swojej drużyny? Można to obliczyć jako wartości Shapleya (Shapley values), które dla modeli ML oblicza algorytm SHAP. Ma on bardzo znaczące, udowodnione matematycznie zalety, a dodatkowo posiada wyjątkowo efektywną implementację dla modeli drzewiastych oraz dobre wizualizacje.\n",
        "\n",
        "Bardzo intuicyjnie, na prostym przykładzie, SHAPa wyjaśnia [pierwsza część tego artykułu](https://iancovert.com/blog/understanding-shap-sage/). Dobrze i dość szczegółówo SHAPa wyjaśnia jego autor [w tym filmie](https://www.youtube.com/watch?v=-taOhqkiuIo)."
      ]
    },
    {
      "cell_type": "markdown",
      "metadata": {
        "pycharm": {
          "name": "#%% md\n"
        },
        "id": "VzJZNHsFF56-"
      },
      "source": [
        "**Wyjaśnialna AI - podsumowanie**\n",
        "\n",
        "1. Problem zrozumienia, jak wnioskuje model i czemu podejmuje określone decyzje.\n",
        "2. Ważne zarówno z perspektywy data badaczy danych, jak i użytkowników systemu.\n",
        "3. Można wyjaśniać model lokalnie (konkretne predykcje) lub globalnie (wpływ poszczególnych cech)."
      ]
    },
    {
      "cell_type": "markdown",
      "metadata": {
        "editable": true,
        "tags": [
          "ex"
        ],
        "id": "dgvXRNcOF56-"
      },
      "source": [
        "## Zadanie dodatkowe (3 punkty)"
      ]
    },
    {
      "cell_type": "markdown",
      "metadata": {
        "editable": true,
        "pycharm": {
          "name": "#%% md\n"
        },
        "tags": [
          "ex"
        ],
        "id": "4Re-QnWLF56-"
      },
      "source": [
        "Dokonaj selekcji cech, usuwając 20% najsłabszych cech. Może się tu przydać klasa `SelectPercentile`. Czy Random Forest i LightGBM (bez dostrajania hiperparametrów, dla uproszczenia) wytrenowane bez najsłabszych cech dają lepszy wynik (AUROC lub innej metryki)?\n",
        "\n",
        "Wykorzystaj po 1 algorytmie z 3 grup algorytmów selekcji cech:\n",
        "1. Filter methods - mierzymy ważność każdej cechy niezależnie, za pomocą pewnej miary (typowo ze statystyki lub teorii informacji), a potem odrzucamy (filtrujemy) te o najniższej ważności. Są to np. `chi2` i `mutual_info_classif` z pakietu `sklearn.feature_selection`.\n",
        "2. Embedded methods - klasyfikator sam zwraca ważność cech, jest jego wbudowaną cechą (stąd nazwa). Jest to w szczególności właściwość wszystkich zespołowych klasyfikatorów drzewiastych. Mają po wytrenowaniu atrybut `feature_importances_`.\n",
        "2. Wrapper methods - algorytmy wykorzystujące w środku używany model (stąd nazwa), mierzące ważność cech za pomocą ich wpływu na jakość klasyfikatora. Jest to np. recursive feature elimination (klasa `RFE`). W tym algorytmie trenujemy klasyfikator na wszystkich cechach, wyrzucamy najsłabszą, trenujemy znowu i tak dalej.\n",
        "\n",
        "Typowo metody filter są najszybsze, ale dają najsłabszy wynik, natomiast metody wrapper są najwolniejsze i dają najlepszy wynik. Metody embedded są gdzieś pośrodku.\n",
        "\n",
        "Dla zainteresowanych, inne znane i bardzo dobre algorytmy:\n",
        "- Relief (filter method) oraz warianty, szczególnie ReliefF, SURF i MultiSURF (biblioteka `ReBATE`): [Wikipedia](https://en.wikipedia.org/wiki/Relief_(feature_selection)), [artykuł \"Benchmarking Relief-Based Feature Selection Methods\"](https://www.researchgate.net/publication/321307194_Benchmarking_Relief-Based_Feature_Selection_Methods)\n",
        "- Boruta (wrapper method), stworzony na Uniwersytecie Warszawskim, łączący Random Forest oraz testy statystyczne (biblioteka `boruta_py`): [link 1](https://towardsdatascience.com/boruta-explained-the-way-i-wish-someone-explained-it-to-me-4489d70e154a), [link 2](https://danielhomola.com/feature%20selection/phd/borutapy-an-all-relevant-feature-selection-method/)"
      ]
    },
    {
      "cell_type": "code",
      "execution_count": null,
      "metadata": {
        "editable": true,
        "pycharm": {
          "name": "#%%\n"
        },
        "tags": [
          "ex"
        ],
        "id": "_KF2nUjpF56-"
      },
      "outputs": [],
      "source": []
    }
  ],
  "metadata": {
    "jupytext": {
      "formats": "ipynb,py:percent"
    },
    "kernelspec": {
      "display_name": "Python 3 (ipykernel)",
      "language": "python",
      "name": "python3"
    },
    "language_info": {
      "codemirror_mode": {
        "name": "ipython",
        "version": 3
      },
      "file_extension": ".py",
      "mimetype": "text/x-python",
      "name": "python",
      "nbconvert_exporter": "python",
      "pygments_lexer": "ipython3",
      "version": "3.11.13"
    },
    "colab": {
      "provenance": []
    }
  },
  "nbformat": 4,
  "nbformat_minor": 0
}